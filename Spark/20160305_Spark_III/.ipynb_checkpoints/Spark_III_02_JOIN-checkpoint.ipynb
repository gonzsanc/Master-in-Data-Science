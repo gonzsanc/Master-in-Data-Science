{
 "cells": [
  {
   "cell_type": "raw",
   "metadata": {},
   "source": [
    "Hay un tipo de caché que se llama SHUFFLE y es distinto de CACHE.\n",
    "\n",
    "En un join hay que reparticionar, redistribuir en el cluster y poner los dos rdds que tengo reparticionadas igual y que los cachos que hayan de juntarse en el join han de estar en el nodo.\n",
    "\n",
    "Cada nodo tiene que tener una memoria llamada shuffle para almacenar esto.\n",
    "\n",
    "Se puede hacer así:\n",
    "La memoria cache se pone a 0 --> esto implica no poder guardar nada para no tener que hacer recálculos.\n",
    "La memoria shuffle se pone a 1 (100%) --> mira majo, toda la memoria la dedicas a suffle.\n",
    "\n",
    "Todo esto necesita muchos recursos. Es bueno dividir en varios trabajos de manera que los joins se hagan antes sin la caché y con el shuffle sí,  y luego las operaciones que utilicen esos joins con la caché activada de nuevo."
   ]
  },
  {
   "cell_type": "code",
   "execution_count": null,
   "metadata": {
    "collapsed": true
   },
   "outputs": [],
   "source": []
  },
  {
   "cell_type": "markdown",
   "metadata": {},
   "source": [
    "# Ejercicio\n",
    "\n",
    "vamos a hacer un análisis de ingresos por canal de ventas.<br/>\n",
    "Vamos a usar el booking entity outlet para ver dónde se ha vendido la reserva."
   ]
  },
  {
   "cell_type": "code",
   "execution_count": 3,
   "metadata": {
    "collapsed": true
   },
   "outputs": [],
   "source": [
    "couponPath = \"/home/dsc/Data/spark/data/coupon150720.csv\"\n",
    "transmPath = \"/home/dsc/Data/spark/data/transm150720.csv\""
   ]
  },
  {
   "cell_type": "code",
   "execution_count": 4,
   "metadata": {
    "collapsed": true
   },
   "outputs": [],
   "source": [
    "ts = sc.textFile(transmPath)\n",
    "cs = sc.textFile(couponPath)"
   ]
  },
  {
   "cell_type": "code",
   "execution_count": 5,
   "metadata": {
    "collapsed": false
   },
   "outputs": [
    {
     "data": {
      "text/plain": [
       "[u'79062005698500,1,MAA,AUH,9W,9W,56.79,USD,1,H,H,0526,150904,OK,IAF0',\n",
       " u'79062005698500,2,AUH,CDG,9W,9W,84.34,USD,1,H,H,6120,150905,OK,IAF0']"
      ]
     },
     "execution_count": 5,
     "metadata": {},
     "output_type": "execute_result"
    }
   ],
   "source": [
    "cs.take(2)"
   ]
  },
  {
   "cell_type": "code",
   "execution_count": 6,
   "metadata": {
    "collapsed": false
   },
   "outputs": [
    {
     "data": {
      "text/plain": [
       "[u'79062005698500,TKTT,30,150719,FR,0.0,EUR,T,T,141025,PARA127A8,0.0,EUR,   ,EX,,150719,0.0',\n",
       " u'79062005924069,TKTT,60,150719,US,0.0,USD,T,T,150719,SJC1S212D,75.38,USD,ADT,CCVI4147,,150719,0.0']"
      ]
     },
     "execution_count": 6,
     "metadata": {},
     "output_type": "execute_result"
    }
   ],
   "source": [
    "ts.take(2)"
   ]
  },
  {
   "cell_type": "code",
   "execution_count": 7,
   "metadata": {
    "collapsed": false
   },
   "outputs": [],
   "source": [
    "def getTCNIngreso(l):\n",
    "    elems = l.split(\",\")\n",
    "    tcn = elems[0]\n",
    "    ingreso = float(elems[6])\n",
    "    return (tcn,ingreso)\n",
    "\n",
    "cs = cs.map(getTCNIngreso)"
   ]
  },
  {
   "cell_type": "code",
   "execution_count": 8,
   "metadata": {
    "collapsed": false
   },
   "outputs": [],
   "source": [
    "def getTCNCanal(l):\n",
    "    elems = l.split(\",\")\n",
    "    tcn = elems[0]\n",
    "    canal = (elems[8])\n",
    "    return (tcn,canal)\n",
    "\n",
    "ts = ts.map(getTCNCanal)"
   ]
  },
  {
   "cell_type": "code",
   "execution_count": 9,
   "metadata": {
    "collapsed": false
   },
   "outputs": [
    {
     "data": {
      "text/plain": [
       "PythonRDD[7] at RDD at PythonRDD.scala:43"
      ]
     },
     "execution_count": 9,
     "metadata": {},
     "output_type": "execute_result"
    }
   ],
   "source": [
    "cs.cache()\n",
    "ts.cache()"
   ]
  },
  {
   "cell_type": "code",
   "execution_count": 10,
   "metadata": {
    "collapsed": false
   },
   "outputs": [
    {
     "data": {
      "text/plain": [
       "1232662"
      ]
     },
     "execution_count": 10,
     "metadata": {},
     "output_type": "execute_result"
    }
   ],
   "source": [
    "ts.leftOuterJoin(cs).count()"
   ]
  },
  {
   "cell_type": "code",
   "execution_count": 11,
   "metadata": {
    "collapsed": false
   },
   "outputs": [
    {
     "data": {
      "text/plain": [
       "1232662"
      ]
     },
     "execution_count": 11,
     "metadata": {},
     "output_type": "execute_result"
    }
   ],
   "source": [
    "cs.leftOuterJoin(ts).count()"
   ]
  },
  {
   "cell_type": "code",
   "execution_count": 12,
   "metadata": {
    "collapsed": true
   },
   "outputs": [],
   "source": [
    "j = ts.leftOuterJoin(cs).cache()"
   ]
  },
  {
   "cell_type": "code",
   "execution_count": 13,
   "metadata": {
    "collapsed": false
   },
   "outputs": [
    {
     "data": {
      "text/plain": [
       "[(u'A', 99011336.9600026),\n",
       " (u'T', 83637221.2200021),\n",
       " (u'E', 994305.880000001),\n",
       " (u'V', 843207.13),\n",
       " (u'', 345827.3100000002)]"
      ]
     },
     "execution_count": 13,
     "metadata": {},
     "output_type": "execute_result"
    }
   ],
   "source": [
    "j.map(lambda x: x[1]).reduceByKey(lambda x,y: x+y) \\\n",
    ".sortBy(lambda x: x[1],False).take(5)"
   ]
  },
  {
   "cell_type": "code",
   "execution_count": 14,
   "metadata": {
    "collapsed": false
   },
   "outputs": [
    {
     "data": {
      "text/plain": [
       "[(u'79062005994272', (u'A', 112.54)),\n",
       " (u'79065668614400', (u'T', 229.51000000000002)),\n",
       " (u'79062005879562', (u'T', 99.50999999999999))]"
      ]
     },
     "execution_count": 14,
     "metadata": {},
     "output_type": "execute_result"
    }
   ],
   "source": [
    "#Vamos a dejar solo los únicos.\n",
    "\n",
    "valorTs = cs.groupByKey().mapValues (lambda vs: sum(vs))\n",
    "\n",
    "valorTs.take(2)\n",
    "valorTs.count()\n",
    "\n",
    "ts.count()\n",
    "ts.map(lambda x: x[0]).distinct().count()\n",
    "\n",
    "j = ts.leftOuterJoin(valorTs)\n",
    "j.take(3)\n"
   ]
  },
  {
   "cell_type": "code",
   "execution_count": 15,
   "metadata": {
    "collapsed": false
   },
   "outputs": [
    {
     "data": {
      "text/plain": [
       "[(u'A', 99011336.96000284),\n",
       " (u'T', 83637221.22000207),\n",
       " (u'E', 994305.8800000008),\n",
       " (u'V', 843207.1299999999),\n",
       " (u'', 345827.31)]"
      ]
     },
     "execution_count": 15,
     "metadata": {},
     "output_type": "execute_result"
    }
   ],
   "source": [
    "j.map(lambda x: x[1]).reduceByKey(lambda x,y: x+y) \\\n",
    ".sortBy(lambda x: x[1],False).take(5)"
   ]
  },
  {
   "cell_type": "markdown",
   "metadata": {},
   "source": [
    "# Ejercicio \n",
    "Tipo de Pasajero.\n",
    "\n",
    "CHD <- tipo de pasejero\n",
    "ADT <- Adulto\n",
    "\n",
    "#Qué aerolínea ha volado con más cantidad de niños."
   ]
  },
  {
   "cell_type": "code",
   "execution_count": 17,
   "metadata": {
    "collapsed": true
   },
   "outputs": [],
   "source": [
    "ts.children = sc.textFile(transmPath)\n",
    "cs.children = sc.textFile(couponPath)"
   ]
  },
  {
   "cell_type": "code",
   "execution_count": 21,
   "metadata": {
    "collapsed": true
   },
   "outputs": [
    {
     "data": {
      "text/plain": [
       "[u'79062005698500,TKTT,30,150719,FR,0.0,EUR,T,T,141025,PARA127A8,0.0,EUR,   ,EX,,150719,0.0',\n",
       " u'79062005924069,TKTT,60,150719,US,0.0,USD,T,T,150719,SJC1S212D,75.38,USD,ADT,CCVI4147,,150719,0.0',\n",
       " u'79065668570385,TKTT,30,150719,AE,980.0,AED,T,T,150626,DXBFU3109,190.0,AED,CHD,EX,CA,150719,0.0',\n",
       " u'79065668737021,TKTT,0,150719,AE,560.0,AED,T,T,150719,AUHOT3128,640.0,AED,   ,CA,,150719,0.0',\n",
       " u'79062006192650,TKTT,60,150719,US,0.0,USD,T,T,150719,SEAEX3160,168.83,USD,ADT,CCVI4563,,150719,0.0']"
      ]
     },
     "execution_count": 21,
     "metadata": {},
     "output_type": "execute_result"
    }
   ],
   "source": [
    "ts.take(5)"
   ]
  },
  {
   "cell_type": "code",
   "execution_count": 22,
   "metadata": {
    "collapsed": true
   },
   "outputs": [
    {
     "data": {
      "text/plain": [
       "[u'79062005698500,1,MAA,AUH,9W,9W,56.79,USD,1,H,H,0526,150904,OK,IAF0',\n",
       " u'79062005698500,2,AUH,CDG,9W,9W,84.34,USD,1,H,H,6120,150905,OK,IAF0',\n",
       " u'79062005924069,1,CJB,MAA,9W,9W,60.0,USD,1,H,H,2768,150721,OK,IAA0',\n",
       " u'79065668570385,1,DEL,DXB,9W,9W,160.63,USD,2,S,S,0546,150804,OK,INA0',\n",
       " u'79065668737021,1,AUH,IXE,9W,9W,152.46,USD,1,V,V,0501,150803,OK,INA0']"
      ]
     },
     "execution_count": 22,
     "metadata": {},
     "output_type": "execute_result"
    }
   ],
   "source": [
    "cs.take(5)"
   ]
  },
  {
   "cell_type": "code",
   "execution_count": 90,
   "metadata": {
    "collapsed": false,
    "scrolled": false
   },
   "outputs": [
    {
     "data": {
      "text/plain": [
       "[(u'79062005391080', u'CHD'),\n",
       " (u'79062005548752', u'CHD'),\n",
       " (u'79065669280202', u'CHD'),\n",
       " (u'79062005990768', u'CHD'),\n",
       " (u'79062006108281', u'CHD')]"
      ]
     },
     "execution_count": 90,
     "metadata": {},
     "output_type": "execute_result"
    }
   ],
   "source": [
    "ts = sc.textFile(transmPath)\n",
    "cs = sc.textFile(couponPath)\n",
    "paxtypes = ts\n",
    "\n",
    "def getTicketALPassenger(l):\n",
    "    elems = l.split(\",\")\n",
    "    ticketNumber = elems[0]\n",
    "    #airline  = elems[8]\n",
    "    passengerType = elems[13]\n",
    "    return (ticketNumber,passengerType)\n",
    "\n",
    "paxtypes = paxtypes.map(getTicketALPassenger)\n",
    "paxtypes = paxtypes.filter(lambda x: x[1]==\"CHD\").distinct().cache()\n",
    "paxtypes.take(5)"
   ]
  },
  {
   "cell_type": "code",
   "execution_count": 93,
   "metadata": {
    "collapsed": false
   },
   "outputs": [
    {
     "ename": "AttributeError",
     "evalue": "'RDD' object has no attribute 'ap'",
     "output_type": "error",
     "traceback": [
      "\u001b[1;31m---------------------------------------------------------------------------\u001b[0m",
      "\u001b[1;31mAttributeError\u001b[0m                            Traceback (most recent call last)",
      "\u001b[1;32m<ipython-input-93-d8017caff8ff>\u001b[0m in \u001b[0;36m<module>\u001b[1;34m()\u001b[0m\n\u001b[0;32m      1\u001b[0m \u001b[0mcs\u001b[0m \u001b[1;33m=\u001b[0m \u001b[0msc\u001b[0m\u001b[1;33m.\u001b[0m\u001b[0mtextFile\u001b[0m\u001b[1;33m(\u001b[0m\u001b[0mcouponPath\u001b[0m\u001b[1;33m)\u001b[0m\u001b[1;33m\u001b[0m\u001b[0m\n\u001b[1;32m----> 2\u001b[1;33m \u001b[0mals\u001b[0m \u001b[1;33m=\u001b[0m \u001b[0mcs\u001b[0m\u001b[1;33m.\u001b[0m\u001b[0map\u001b[0m\u001b[1;33m(\u001b[0m\u001b[0mgetTicketALPassenger\u001b[0m\u001b[1;33m)\u001b[0m\u001b[1;33m\u001b[0m\u001b[0m\n\u001b[0m",
      "\u001b[1;31mAttributeError\u001b[0m: 'RDD' object has no attribute 'ap'"
     ]
    }
   ],
   "source": [
    "cs = sc.textFile(couponPath)\n"
   ]
  },
  {
   "cell_type": "code",
   "execution_count": 92,
   "metadata": {
    "collapsed": false
   },
   "outputs": [
    {
     "data": {
      "text/plain": [
       "[u'79062005698500,1,MAA,AUH,9W,9W,56.79,USD,1,H,H,0526,150904,OK,IAF0',\n",
       " u'79062005698500,2,AUH,CDG,9W,9W,84.34,USD,1,H,H,6120,150905,OK,IAF0',\n",
       " u'79062005924069,1,CJB,MAA,9W,9W,60.0,USD,1,H,H,2768,150721,OK,IAA0',\n",
       " u'79065668570385,1,DEL,DXB,9W,9W,160.63,USD,2,S,S,0546,150804,OK,INA0',\n",
       " u'79065668737021,1,AUH,IXE,9W,9W,152.46,USD,1,V,V,0501,150803,OK,INA0']"
      ]
     },
     "execution_count": 92,
     "metadata": {},
     "output_type": "execute_result"
    }
   ],
   "source": [
    "als.take(5)\n"
   ]
  },
  {
   "cell_type": "code",
   "execution_count": 57,
   "metadata": {
    "collapsed": true
   },
   "outputs": [],
   "source": [
    "def getControlNAL(l):\n",
    "    elem = l.split(\",\")\n",
    "    tcn = elem [0]\n",
    "    al = elem [5]\n",
    "    return (tcn,al)"
   ]
  },
  {
   "cell_type": "code",
   "execution_count": 109,
   "metadata": {
    "collapsed": false
   },
   "outputs": [],
   "source": [
    "als = sc.textFile(couponPath).map(getControlNAL).distinct().cache()\n",
    "als = als.filter(lambda x: x[1]!=\"\").distinct().cache()"
   ]
  },
  {
   "cell_type": "code",
   "execution_count": 97,
   "metadata": {
    "collapsed": false
   },
   "outputs": [
    {
     "data": {
      "text/plain": [
       "[(u'79062005880160', u'UA'),\n",
       " (u'79062005359997', u'LH'),\n",
       " (u'79062005562129', u'HG'),\n",
       " (u'79062006178882', u'CX'),\n",
       " (u'79062006230959', u'AZ')]"
      ]
     },
     "execution_count": 97,
     "metadata": {},
     "output_type": "execute_result"
    }
   ],
   "source": [
    "als.take(5)"
   ]
  },
  {
   "cell_type": "code",
   "execution_count": 122,
   "metadata": {
    "collapsed": true
   },
   "outputs": [],
   "source": [
    "j = als.rightOuterJoin(paxtypes).map(lambda x:x[1])"
   ]
  },
  {
   "cell_type": "code",
   "execution_count": 120,
   "metadata": {
    "collapsed": false
   },
   "outputs": [
    {
     "data": {
      "text/plain": [
       "[(u'MK', u'CHD'),\n",
       " (u'OS', u'CHD'),\n",
       " (u'LH', u'CHD'),\n",
       " (u'OZ', u'CHD'),\n",
       " (u'JJ', u'CHD'),\n",
       " (u'CA', u'CHD'),\n",
       " (u'SQ', u'CHD'),\n",
       " (u'QR', u'CHD'),\n",
       " (u'SV', u'CHD'),\n",
       " (u'AF', u'CHD')]"
      ]
     },
     "execution_count": 120,
     "metadata": {},
     "output_type": "execute_result"
    }
   ],
   "source": [
    "j.take(10)"
   ]
  },
  {
   "cell_type": "code",
   "execution_count": 121,
   "metadata": {
    "collapsed": false
   },
   "outputs": [
    {
     "data": {
      "text/plain": [
       "[(u'SV', 3570), (u'AB', 2626), (u'JJ', 2576), (u'AF', 1956), (u'BA', 1864)]"
      ]
     },
     "execution_count": 121,
     "metadata": {},
     "output_type": "execute_result"
    }
   ],
   "source": [
    "j.mapValues(lambda x: 1) \\\n",
    ".reduceByKey(lambda x,y: x+y)\\\n",
    ".sortBy(lambda x: x[1],False).take(5)"
   ]
  },
  {
   "cell_type": "markdown",
   "metadata": {},
   "source": [
    "# Ejercicio\n",
    "Ver cuánto se ingresa por niño y areolínea"
   ]
  },
  {
   "cell_type": "code",
   "execution_count": 124,
   "metadata": {
    "collapsed": false
   },
   "outputs": [
    {
     "data": {
      "text/plain": [
       "[(u'79062005391080', u'CHD'),\n",
       " (u'79062005548752', u'CHD'),\n",
       " (u'79065669280202', u'CHD'),\n",
       " (u'79062005990768', u'CHD')]"
      ]
     },
     "execution_count": 124,
     "metadata": {},
     "output_type": "execute_result"
    }
   ],
   "source": [
    "paxtypes.take(4)"
   ]
  },
  {
   "cell_type": "code",
   "execution_count": 127,
   "metadata": {
    "collapsed": false
   },
   "outputs": [
    {
     "data": {
      "text/plain": [
       "[(u'79062005698500', 56.79), (u'79062005698500', 84.34)]"
      ]
     },
     "execution_count": 127,
     "metadata": {},
     "output_type": "execute_result"
    }
   ],
   "source": [
    "cs = sc.textFile(couponPath).map(getTCNIngreso)\n",
    "cs.take(2)"
   ]
  },
  {
   "cell_type": "code",
   "execution_count": 128,
   "metadata": {
    "collapsed": false
   },
   "outputs": [
    {
     "data": {
      "text/plain": [
       "[(u'79065668446486', (u'CHD', 165.69)), (u'79065668446486', (u'CHD', 172.37))]"
      ]
     },
     "execution_count": 128,
     "metadata": {},
     "output_type": "execute_result"
    }
   ],
   "source": [
    "paxtypes.join(cs).take(2)"
   ]
  },
  {
   "cell_type": "code",
   "execution_count": 129,
   "metadata": {
    "collapsed": false
   },
   "outputs": [
    {
     "data": {
      "text/plain": [
       "[(u'CHD', 14498.76),\n",
       " (u'CHD', 13547.31),\n",
       " (u'CHD', 9446.75),\n",
       " (u'CHD', 7709.74),\n",
       " (u'CHD', 6629.51)]"
      ]
     },
     "execution_count": 129,
     "metadata": {},
     "output_type": "execute_result"
    }
   ],
   "source": [
    "paxtypes.join(cs) \\\n",
    ".map(lambda x: x[1]).sortBy(lambda x: x[1], False).take(5)"
   ]
  }
 ],
 "metadata": {
  "kernelspec": {
   "display_name": "PySpark",
   "language": "python",
   "name": "pyspark"
  },
  "language_info": {
   "codemirror_mode": {
    "name": "ipython",
    "version": 2
   },
   "file_extension": ".py",
   "mimetype": "text/x-python",
   "name": "python",
   "nbconvert_exporter": "python",
   "pygments_lexer": "ipython2",
   "version": "2.7.10"
  }
 },
 "nbformat": 4,
 "nbformat_minor": 0
}
