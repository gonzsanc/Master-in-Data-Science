{
 "cells": [
  {
   "cell_type": "code",
   "execution_count": 2,
   "metadata": {
    "collapsed": false
   },
   "outputs": [
    {
     "data": {
      "text/plain": [
       "<pyspark.context.SparkContext at 0x7f0b41c37310>"
      ]
     },
     "execution_count": 2,
     "metadata": {},
     "output_type": "execute_result"
    }
   ],
   "source": [
    "sc"
   ]
  },
  {
   "cell_type": "code",
   "execution_count": 1,
   "metadata": {
    "collapsed": true
   },
   "outputs": [],
   "source": [
    "couponPath = \"/home/dsc/Data/spark/data/coupon150720.csv\"\n",
    "transmPath = \"/home/dsc/Data/spark/data/transm150720.csv\""
   ]
  },
  {
   "cell_type": "code",
   "execution_count": 2,
   "metadata": {
    "collapsed": true
   },
   "outputs": [],
   "source": [
    "ls = sc.textFile(couponPath)"
   ]
  },
  {
   "cell_type": "code",
   "execution_count": 5,
   "metadata": {
    "collapsed": false
   },
   "outputs": [
    {
     "data": {
      "text/plain": [
       "[u'79062005698500,1,MAA,AUH,9W,9W,56.79,USD,1,H,H,0526,150904,OK,IAF0',\n",
       " u'79062005698500,2,AUH,CDG,9W,9W,84.34,USD,1,H,H,6120,150905,OK,IAF0',\n",
       " u'79062005924069,1,CJB,MAA,9W,9W,60.0,USD,1,H,H,2768,150721,OK,IAA0']"
      ]
     },
     "execution_count": 5,
     "metadata": {},
     "output_type": "execute_result"
    }
   ],
   "source": [
    "ls.take(3)"
   ]
  },
  {
   "cell_type": "code",
   "execution_count": 3,
   "metadata": {
    "collapsed": true
   },
   "outputs": [],
   "source": [
    "def getALIngreso(l):\n",
    "    elems = l.split(\",\")\n",
    "    al = elems[4]\n",
    "    ingreso = float(elems[6])\n",
    "    return (al, ingreso)"
   ]
  },
  {
   "cell_type": "code",
   "execution_count": 8,
   "metadata": {
    "collapsed": false
   },
   "outputs": [
    {
     "data": {
      "text/plain": [
       "(u'9W', 56.79)"
      ]
     },
     "execution_count": 8,
     "metadata": {},
     "output_type": "execute_result"
    }
   ],
   "source": [
    "getALIngreso(ls.first())"
   ]
  },
  {
   "cell_type": "code",
   "execution_count": 10,
   "metadata": {
    "collapsed": false
   },
   "outputs": [
    {
     "data": {
      "text/plain": [
       "[(u'9W', 56.79), (u'9W', 84.34), (u'9W', 60.0)]"
      ]
     },
     "execution_count": 10,
     "metadata": {},
     "output_type": "execute_result"
    }
   ],
   "source": [
    "#¿Cuál es el ingreso total por aerolínea?\n",
    "#Primero una lista de tuplas:\n",
    "als = ls.map(getALIngreso)\n",
    "als.take(3)"
   ]
  },
  {
   "cell_type": "code",
   "execution_count": 13,
   "metadata": {
    "collapsed": false
   },
   "outputs": [
    {
     "data": {
      "text/plain": [
       "[(u'', 478.31000000000006),\n",
       " (u'BE', 64073.329999999834),\n",
       " (u'WN', 922132.1599999971),\n",
       " (u'JV', 131.66)]"
      ]
     },
     "execution_count": 13,
     "metadata": {},
     "output_type": "execute_result"
    }
   ],
   "source": [
    "#Agrupar por cada criterio es ineficiente porque  las particiones se generan por las claves de agrupación\n",
    "#Agrupar es caro y lleva tiempo y recursos...\n",
    "als.groupByKey().mapValues(lambda vs: sum(vs)).take(4)"
   ]
  },
  {
   "cell_type": "code",
   "execution_count": 28,
   "metadata": {
    "collapsed": true
   },
   "outputs": [],
   "source": [
    "totales = als.groupByKey().mapValues(lambda vs: round(sum(vs)/1e3,5))"
   ]
  },
  {
   "cell_type": "code",
   "execution_count": 29,
   "metadata": {
    "collapsed": false
   },
   "outputs": [],
   "source": [
    "totales.ordenados = totales.sortBy(lambda x: x[1], False)"
   ]
  },
  {
   "cell_type": "code",
   "execution_count": 30,
   "metadata": {
    "collapsed": false,
    "scrolled": true
   },
   "outputs": [
    {
     "data": {
      "text/plain": [
       "[(u'GA', 20712.22657),\n",
       " (u'BA', 12443.98698),\n",
       " (u'AF', 10221.50791),\n",
       " (u'QF', 8358.5879),\n",
       " (u'LH', 7715.60834),\n",
       " (u'QR', 6935.58437),\n",
       " (u'SV', 6286.29934),\n",
       " (u'UA', 5151.81529),\n",
       " (u'JJ', 5066.30051),\n",
       " (u'AA', 4151.99646)]"
      ]
     },
     "execution_count": 30,
     "metadata": {},
     "output_type": "execute_result"
    }
   ],
   "source": [
    "#Top ten airlines by income in thousands.\n",
    "totales.ordenados.take(10)"
   ]
  },
  {
   "cell_type": "raw",
   "metadata": {},
   "source": [
    "#reduceByKey tiene la ventaja de que solo utiliza a demanda los datos, no los carga TODOS en memoria tal como hace\n",
    "#El groupByKey\n",
    "\n",
    "#reduceByKey necesita una función reduce, no puede iterar sobre el map directamente.\n",
    "               e                acum\n",
    " reduce (elementos variable, acumulado)\n",
    "e\n",
    "tenemos una rdd (7,6,5,4,3)\n",
    "acum\n",
    "0\n",
    "\n",
    "     |Paso1|Paso2|Paso3|Paso4|Paso5|\n",
    "e    |7    |6    | 5   | 4   |  3|\n",
    "acum |0    |7    |13   | 17  |20|\n",
    "        ^    ^      ^     ^    ^\n",
    "        \n",
    "        \n",
    "En cada iteración solo tenemos en memoria los dos datos de cada paso (e y acum, las columnas de paso)."
   ]
  },
  {
   "cell_type": "code",
   "execution_count": 33,
   "metadata": {
    "collapsed": true
   },
   "outputs": [],
   "source": [
    "alsReduced = als.reduceByKey (lambda e,acum: e+acum)\n",
    "alsReducedSorted = alsReduced.sortBy(lambda x: x[1], False)"
   ]
  },
  {
   "cell_type": "code",
   "execution_count": 34,
   "metadata": {
    "collapsed": false
   },
   "outputs": [
    {
     "data": {
      "text/plain": [
       "[(u'GA', 20712226.569999855),\n",
       " (u'BA', 12443986.980000002),\n",
       " (u'AF', 10221507.909999428),\n",
       " (u'QF', 8358587.9000001205),\n",
       " (u'LH', 7715608.339999718)]"
      ]
     },
     "execution_count": 34,
     "metadata": {},
     "output_type": "execute_result"
    }
   ],
   "source": [
    "alsReducedSorted.take(5)"
   ]
  },
  {
   "cell_type": "code",
   "execution_count": 4,
   "metadata": {
    "collapsed": true
   },
   "outputs": [],
   "source": [
    "def getALIngresoOne(l):\n",
    "    elems = l.split(\",\")\n",
    "    al = elems[4]\n",
    "    ingreso = float(elems[6])\n",
    "    return (al, (ingreso,float(1)))"
   ]
  },
  {
   "cell_type": "code",
   "execution_count": 51,
   "metadata": {
    "collapsed": false
   },
   "outputs": [
    {
     "data": {
      "text/plain": [
       "[(u'9W', (56.79, 1.0)), (u'9W', (84.34, 1.0)), (u'9W', (60.0, 1.0))]"
      ]
     },
     "execution_count": 51,
     "metadata": {},
     "output_type": "execute_result"
    }
   ],
   "source": [
    "als = ls.map(getALIngresoOne)\n",
    "als.take(3)"
   ]
  },
  {
   "cell_type": "code",
   "execution_count": 52,
   "metadata": {
    "collapsed": true
   },
   "outputs": [],
   "source": [
    "def reduceALS(e, acum):\n",
    "    aggrCount = e[1]+acum[1]\n",
    "    aggrSum = e[0] + acum[0]\n",
    "    return (aggrSum,aggrCount)"
   ]
  },
  {
   "cell_type": "code",
   "execution_count": 7,
   "metadata": {
    "collapsed": true
   },
   "outputs": [],
   "source": [
    "als = ls.map(getALIngreso)"
   ]
  },
  {
   "cell_type": "code",
   "execution_count": 53,
   "metadata": {
    "collapsed": true
   },
   "outputs": [],
   "source": [
    "alsReduced = als.reduceByKey (reduceALS)"
   ]
  },
  {
   "cell_type": "code",
   "execution_count": null,
   "metadata": {
    "collapsed": true
   },
   "outputs": [],
   "source": []
  },
  {
   "cell_type": "code",
   "execution_count": 54,
   "metadata": {
    "collapsed": false
   },
   "outputs": [
    {
     "data": {
      "text/plain": [
       "(u'', (478.31000000000006, 18811.0))"
      ]
     },
     "execution_count": 54,
     "metadata": {},
     "output_type": "execute_result"
    }
   ],
   "source": [
    "alsReduced.first()"
   ]
  },
  {
   "cell_type": "code",
   "execution_count": 8,
   "metadata": {
    "collapsed": false
   },
   "outputs": [
    {
     "data": {
      "text/plain": [
       "[(u'S3', 5225.068852459017),\n",
       " (u'9V', 1488.673986486487),\n",
       " (u'GA', 991.2527671691715),\n",
       " (u'TN', 964.6472580645161),\n",
       " (u'7F', 668.035)]"
      ]
     },
     "execution_count": 8,
     "metadata": {},
     "output_type": "execute_result"
    }
   ],
   "source": [
    "als.groupByKey().mapValues(lambda vs: sum(vs)/len(vs)) \\\n",
    ".sortBy(lambda x: x[1],False).take(5)"
   ]
  },
  {
   "cell_type": "code",
   "execution_count": 9,
   "metadata": {
    "collapsed": true
   },
   "outputs": [],
   "source": [
    "#En reduce las operaciones que se apliquen en reduce tienen que ser aditivas (monoides, como la suma). Si no son monoides\n",
    "#No se pueden paralelizar.\n",
    "\n",
    "def calculaMediaReduce (e, acum):\n",
    "    sumaTotal = acum [0]\n",
    "    numElems = acum [1]\n",
    "    return (e[0] + sumaTotal, e[1] + numElems)"
   ]
  },
  {
   "cell_type": "code",
   "execution_count": 10,
   "metadata": {
    "collapsed": false
   },
   "outputs": [
    {
     "data": {
      "text/plain": [
       "[(u'9W', (56.79, 1)), (u'9W', (84.34, 1))]"
      ]
     },
     "execution_count": 10,
     "metadata": {},
     "output_type": "execute_result"
    }
   ],
   "source": [
    "#Agregamos al map de als un entero 1 para sumar el número de ocurrencias.\n",
    "als.map(lambda x: (x[0],(x[1],1))).take(2)"
   ]
  },
  {
   "cell_type": "code",
   "execution_count": 11,
   "metadata": {
    "collapsed": false
   },
   "outputs": [
    {
     "data": {
      "text/plain": [
       "[(u'', (478.31000000000006, 18811)), (u'BE', (64073.32999999998, 788))]"
      ]
     },
     "execution_count": 11,
     "metadata": {},
     "output_type": "execute_result"
    }
   ],
   "source": [
    "#Agrupamos ahora el map y extraemos el resultado agrupado por aerolínea.\n",
    "als.map(lambda x: (x[0],(x[1],1))).reduceByKey(calculaMediaReduce).take(2)"
   ]
  },
  {
   "cell_type": "code",
   "execution_count": 14,
   "metadata": {
    "collapsed": true
   },
   "outputs": [],
   "source": [
    "#Lo mapeamos (el resultado del reduce) y obtenemos la media.\n",
    "tr = als.map(lambda x: (x[0],(x[1],1))).reduceByKey(calculaMediaReduce)"
   ]
  },
  {
   "cell_type": "code",
   "execution_count": 16,
   "metadata": {
    "collapsed": false
   },
   "outputs": [
    {
     "data": {
      "text/plain": [
       "[(u'', 0.025427143692520335),\n",
       " (u'BE', 81.31133248730961),\n",
       " (u'WN', 107.49966892049395),\n",
       " (u'JV', 131.66),\n",
       " (u'WK', 125.48430577223107)]"
      ]
     },
     "execution_count": 16,
     "metadata": {},
     "output_type": "execute_result"
    }
   ],
   "source": [
    "tr.mapValues(lambda x: x[0]/x[1]).take(5)"
   ]
  }
 ],
 "metadata": {
  "kernelspec": {
   "display_name": "PySpark",
   "language": "python",
   "name": "pyspark"
  },
  "language_info": {
   "codemirror_mode": {
    "name": "ipython",
    "version": 2
   },
   "file_extension": ".py",
   "mimetype": "text/x-python",
   "name": "python",
   "nbconvert_exporter": "python",
   "pygments_lexer": "ipython2",
   "version": "2.7.10"
  }
 },
 "nbformat": 4,
 "nbformat_minor": 0
}
