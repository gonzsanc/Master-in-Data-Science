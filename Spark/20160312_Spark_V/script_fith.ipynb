{
 "cells": [
  {
   "cell_type": "code",
   "execution_count": 1,
   "metadata": {
    "collapsed": false
   },
   "outputs": [
    {
     "name": "stdout",
     "output_type": "stream",
     "text": [
      "coupon150720.csv  \u001b[0m\u001b[01;32msales_segments.csv.gz\u001b[0m*  transm150720.csv\r\n"
     ]
    }
   ],
   "source": [
    "%ls data"
   ]
  },
  {
   "cell_type": "code",
   "execution_count": 3,
   "metadata": {
    "collapsed": false
   },
   "outputs": [],
   "source": [
    "# Se lee el archivo\n",
    "data = sc.textFile(\"data/sales_segments.csv.gz\")"
   ]
  },
  {
   "cell_type": "code",
   "execution_count": 4,
   "metadata": {
    "collapsed": false
   },
   "outputs": [
    {
     "data": {
      "text/plain": [
       "u'rloc^departure_date_seg^booking_date^freq_flyer_flag^creator_office_id^creator_iata_number^creator_gds_code^creator_city_code^creator_lat^creator_lon^creator_country_code^creator_continent_code^creator_channel_code^booking_status_code^cabin_code^booking_class_code^pos_office_id^pos_iata_number^pos_gds_code^pos_city_code^pos_lat^pos_lon^pos_country_code^pos_continent_code^pos_channel_code^board_point_seg^board_lat^board_lon^board_country_code^board_continent_code^off_point_seg^off_lat^off_lon^off_country_code^off_continent_code^num_legs^distance_seg^route^network^airline_code^flight_number^flight_type^revenue_source^estimated_flag^usage_board_point_seg^usage_off_point_seg^usage_flight_number^usage_date^non_currency_type^bookings_seg^rpk_seg^revenue_amount_seg^currency_code^fuel_surcharge_amount_seg^fuel_surcharge_currency_code^emd_count^emd_amount^emd_currency_code^total_outliers'"
      ]
     },
     "execution_count": 4,
     "metadata": {},
     "output_type": "execute_result"
    }
   ],
   "source": [
    "# Se comprueba la lectura correcta\n",
    "data.first()"
   ]
  },
  {
   "cell_type": "code",
   "execution_count": 5,
   "metadata": {
    "collapsed": true
   },
   "outputs": [],
   "source": [
    "header = data.first()"
   ]
  },
  {
   "cell_type": "code",
   "execution_count": 6,
   "metadata": {
    "collapsed": true
   },
   "outputs": [],
   "source": [
    "# Se elimina la cabecera del conjunto de datos\n",
    "lines = data.filter(lambda l: l != header)"
   ]
  },
  {
   "cell_type": "code",
   "execution_count": 11,
   "metadata": {
    "collapsed": false
   },
   "outputs": [
    {
     "data": {
      "text/plain": [
       "49"
      ]
     },
     "execution_count": 11,
     "metadata": {},
     "output_type": "execute_result"
    }
   ],
   "source": [
    "# Nos quedamos con los campos que nos interesan\n",
    "fields = ['bookings_seg','revenue_amount_seg','fuel_surcharge_amount_seg']\n",
    "# Se calculan las posiciones de cada campo\n",
    "header.split('^').index('bookings_seg')"
   ]
  },
  {
   "cell_type": "code",
   "execution_count": 12,
   "metadata": {
    "collapsed": false
   },
   "outputs": [
    {
     "data": {
      "text/plain": [
       "[49, 51, 53]"
      ]
     },
     "execution_count": 12,
     "metadata": {},
     "output_type": "execute_result"
    }
   ],
   "source": [
    "[header.split('^').index(field) for field in fields]"
   ]
  },
  {
   "cell_type": "code",
   "execution_count": 13,
   "metadata": {
    "collapsed": false
   },
   "outputs": [
    {
     "data": {
      "text/plain": [
       "(33.56, 7.3)"
      ]
     },
     "execution_count": 13,
     "metadata": {},
     "output_type": "execute_result"
    }
   ],
   "source": [
    "def splitData (line):\n",
    "    elements = line.split(\"^\")\n",
    "    bookings = float(elements[49])\n",
    "    rev = float(elements[51])\n",
    "    tax = float(elements[53])\n",
    "    \n",
    "    av_rev = rev/bookings\n",
    "    av_tax = tax/bookings\n",
    "    \n",
    "    return (av_rev, av_tax)\n",
    "\n",
    "splitData(lines.first())"
   ]
  },
  {
   "cell_type": "code",
   "execution_count": 14,
   "metadata": {
    "collapsed": true
   },
   "outputs": [],
   "source": [
    "simple = lines.map(splitData)"
   ]
  },
  {
   "cell_type": "code",
   "execution_count": 15,
   "metadata": {
    "collapsed": false
   },
   "outputs": [
    {
     "data": {
      "text/plain": [
       "[(33.56, 7.3), (61.2, 25.5), (71.86842105263158, 12.31578947368421)]"
      ]
     },
     "execution_count": 15,
     "metadata": {},
     "output_type": "execute_result"
    }
   ],
   "source": [
    "simple.take(3)"
   ]
  },
  {
   "cell_type": "code",
   "execution_count": 16,
   "metadata": {
    "collapsed": false
   },
   "outputs": [
    {
     "data": {
      "text/plain": [
       "PythonRDD[6] at RDD at PythonRDD.scala:43"
      ]
     },
     "execution_count": 16,
     "metadata": {},
     "output_type": "execute_result"
    }
   ],
   "source": [
    "simple.cache()"
   ]
  },
  {
   "cell_type": "code",
   "execution_count": 18,
   "metadata": {
    "collapsed": false
   },
   "outputs": [],
   "source": [
    "from pyspark.mllib.clustering import KMeans, KMeansModel\n",
    "from numpy import array\n",
    "from math import sqrt"
   ]
  },
  {
   "cell_type": "code",
   "execution_count": 19,
   "metadata": {
    "collapsed": true
   },
   "outputs": [],
   "source": [
    "# Entrenamiento del cluster\n",
    "clusters = KMeans.train(simple, 10)"
   ]
  },
  {
   "cell_type": "code",
   "execution_count": 20,
   "metadata": {
    "collapsed": true
   },
   "outputs": [],
   "source": [
    "clusters.save(sc, \"clusters\")"
   ]
  },
  {
   "cell_type": "code",
   "execution_count": 23,
   "metadata": {
    "collapsed": false
   },
   "outputs": [
    {
     "data": {
      "text/plain": [
       "[array([ 117.58639715,   69.0546566 ]),\n",
       " array([  8.77500428e+05,   3.03020000e+01]),\n",
       " array([  3.72063199e+05,   1.03505455e+02]),\n",
       " array([  1.09277838e+05,   2.10108791e+01]),\n",
       " array([  1.39215574e+06,   3.27400000e+01]),\n",
       " array([  6.15206951e+05,   2.97312500e+01]),\n",
       " array([  4.77354917e+04,   3.31273780e+01]),\n",
       " array([  2.62467806e+05,   7.43850000e+01]),\n",
       " array([ 468.82400889,  189.60768202]),\n",
       " array([ 1640.820864  ,   208.04517166])]"
      ]
     },
     "execution_count": 23,
     "metadata": {},
     "output_type": "execute_result"
    }
   ],
   "source": [
    "clusters.centers"
   ]
  },
  {
   "cell_type": "code",
   "execution_count": 24,
   "metadata": {
    "collapsed": false
   },
   "outputs": [
    {
     "data": {
      "text/plain": [
       "[array([ 117.58639715,   69.0546566 ]),\n",
       " array([  8.77500428e+05,   3.03020000e+01]),\n",
       " array([  3.72063199e+05,   1.03505455e+02]),\n",
       " array([  1.09277838e+05,   2.10108791e+01]),\n",
       " array([  1.39215574e+06,   3.27400000e+01]),\n",
       " array([  6.15206951e+05,   2.97312500e+01]),\n",
       " array([  4.77354917e+04,   3.31273780e+01]),\n",
       " array([  2.62467806e+05,   7.43850000e+01]),\n",
       " array([ 468.82400889,  189.60768202]),\n",
       " array([ 1640.820864  ,   208.04517166])]"
      ]
     },
     "execution_count": 24,
     "metadata": {},
     "output_type": "execute_result"
    }
   ],
   "source": [
    "clusters.clusterCenters"
   ]
  },
  {
   "cell_type": "code",
   "execution_count": 26,
   "metadata": {
    "collapsed": false
   },
   "outputs": [
    {
     "data": {
      "text/plain": [
       "0"
      ]
     },
     "execution_count": 26,
     "metadata": {},
     "output_type": "execute_result"
    }
   ],
   "source": [
    "# Dado un punto nos devuelve el cluster correspondiente\n",
    "clusters.predict((33.56, 7.3))"
   ]
  },
  {
   "cell_type": "code",
   "execution_count": 27,
   "metadata": {
    "collapsed": true
   },
   "outputs": [],
   "source": [
    "# Se asigna el cluster correspondiente a cada punto\n",
    "bycluster = simple.map(lambda point: (clusters.predict(point),point))"
   ]
  },
  {
   "cell_type": "code",
   "execution_count": 28,
   "metadata": {
    "collapsed": false
   },
   "outputs": [
    {
     "data": {
      "text/plain": [
       "[(0, (33.56, 7.3)),\n",
       " (0, (61.2, 25.5)),\n",
       " (0, (71.86842105263158, 12.31578947368421))]"
      ]
     },
     "execution_count": 28,
     "metadata": {},
     "output_type": "execute_result"
    }
   ],
   "source": [
    "bycluster.take(3)"
   ]
  },
  {
   "cell_type": "code",
   "execution_count": null,
   "metadata": {
    "collapsed": true
   },
   "outputs": [],
   "source": [
    "# Queremos ejecutar lo siguiente, pero no lo podemos hacer así porque terminaría con la memoria\n",
    "#bycluster.groupByKey().mapValues(lambda points: mean(points), stdev(points))"
   ]
  },
  {
   "cell_type": "code",
   "execution_count": 32,
   "metadata": {
    "collapsed": false
   },
   "outputs": [
    {
     "data": {
      "text/plain": [
       "[(0, (33.56, 7.3, 1)),\n",
       " (0, (61.2, 25.5, 1)),\n",
       " (0, (71.86842105263158, 12.31578947368421, 1))]"
      ]
     },
     "execution_count": 32,
     "metadata": {},
     "output_type": "execute_result"
    }
   ],
   "source": [
    "# Se meten los 1's en cada punto\n",
    "bycluster_w = simple.map(lambda (x,y): (clusters.predict((x,y)),(x,y,1)))\n",
    "bycluster_w.cache()\n",
    "bycluster_w.take(3)"
   ]
  },
  {
   "cell_type": "code",
   "execution_count": 33,
   "metadata": {
    "collapsed": true
   },
   "outputs": [],
   "source": [
    "def calc_avg_reduce(point, acum):\n",
    "#    (rev_p, tax_p, c) = point\n",
    "#    (rev_a, tax_a, a) = acum\n",
    "#    result = (rev_p + rev_a, tax_p+tax_a, c+a)\n",
    "#    return result\n",
    "\n",
    "    point_x = point[0] + acum[0]\n",
    "    point_y = point[1] + acum[1]\n",
    "    point_c = point[2] + acum[2]\n",
    "    \n",
    "    return (point_x, point_y, point_c)"
   ]
  },
  {
   "cell_type": "code",
   "execution_count": 34,
   "metadata": {
    "collapsed": true
   },
   "outputs": [],
   "source": [
    "means = bycluster_w.reduceByKey(calc_avg_reduce)"
   ]
  },
  {
   "cell_type": "code",
   "execution_count": 35,
   "metadata": {
    "collapsed": false
   },
   "outputs": [
    {
     "data": {
      "text/plain": [
       "[(0, (134693571.72901854, 79101142.3676785, 1145486)),\n",
       " (1, (8775004.28, 303.02, 10)),\n",
       " (2, (4092695.19, 1138.5600000000002, 11))]"
      ]
     },
     "execution_count": 35,
     "metadata": {},
     "output_type": "execute_result"
    }
   ],
   "source": [
    "means.take(3)"
   ]
  },
  {
   "cell_type": "code",
   "execution_count": 36,
   "metadata": {
    "collapsed": true
   },
   "outputs": [],
   "source": [
    "def medias(cluster):\n",
    "    (rev_t, tax_t, count_t) = cluster\n",
    "    return(rev_t/count_t, tax_t/count_t, count_t)\n",
    "\n",
    "means_f = means.mapValues(medias)"
   ]
  },
  {
   "cell_type": "code",
   "execution_count": 37,
   "metadata": {
    "collapsed": false
   },
   "outputs": [
    {
     "data": {
      "text/plain": [
       "[(0, (117.5863971528404, 69.05465659787941, 1145486)),\n",
       " (1, (877500.428, 30.302, 10)),\n",
       " (2, (372063.1990909091, 103.50545454545455, 11))]"
      ]
     },
     "execution_count": 37,
     "metadata": {},
     "output_type": "execute_result"
    }
   ],
   "source": [
    "means_f.take(3)"
   ]
  },
  {
   "cell_type": "code",
   "execution_count": 41,
   "metadata": {
    "collapsed": false
   },
   "outputs": [
    {
     "data": {
      "text/plain": [
       "PythonRDD[113] at RDD at PythonRDD.scala:43"
      ]
     },
     "execution_count": 41,
     "metadata": {},
     "output_type": "execute_result"
    }
   ],
   "source": [
    "simple_j = bycluster.join(means_f)\n",
    "simple_j.cache()"
   ]
  },
  {
   "cell_type": "code",
   "execution_count": 42,
   "metadata": {
    "collapsed": false
   },
   "outputs": [
    {
     "data": {
      "text/plain": [
       "[(0, ((33.56, 7.3), (117.5863971528404, 69.05465659787941, 1145486))),\n",
       " (0, ((61.2, 25.5), (117.5863971528404, 69.05465659787941, 1145486))),\n",
       " (0,\n",
       "  ((71.86842105263158, 12.31578947368421),\n",
       "   (117.5863971528404, 69.05465659787941, 1145486)))]"
      ]
     },
     "execution_count": 42,
     "metadata": {},
     "output_type": "execute_result"
    }
   ],
   "source": [
    "simple_j.take(3)"
   ]
  },
  {
   "cell_type": "code",
   "execution_count": 43,
   "metadata": {
    "collapsed": true
   },
   "outputs": [],
   "source": [
    "def sq_diffs(point):\n",
    "    ((x,y),(avg_x,avg_y,count)) = point\n",
    "    return ((x-avg_x)**2, (y-avg_y)**2, 1)\n",
    "# vamos a reutilizar la funcion calc_avg_reduce"
   ]
  },
  {
   "cell_type": "code",
   "execution_count": 44,
   "metadata": {
    "collapsed": false
   },
   "outputs": [
    {
     "data": {
      "text/plain": [
       "[(0, (7060.435418486866, 3813.637611522012, 1)),\n",
       " (0, (3179.425783877848, 1897.008111359201, 1)),\n",
       " (0, (2090.1333386992656, 3219.299042537079, 1))]"
      ]
     },
     "execution_count": 44,
     "metadata": {},
     "output_type": "execute_result"
    }
   ],
   "source": [
    "points_w = simple_j.mapValues(sq_diffs)\n",
    "points_w.take(3)"
   ]
  },
  {
   "cell_type": "code",
   "execution_count": 45,
   "metadata": {
    "collapsed": true
   },
   "outputs": [],
   "source": [
    "points_w_2 = points_w.reduceByKey(calc_avg_reduce)"
   ]
  },
  {
   "cell_type": "code",
   "execution_count": 46,
   "metadata": {
    "collapsed": false
   },
   "outputs": [
    {
     "data": {
      "text/plain": [
       "[(0, (7383943512.42626, 6298520271.110964, 1145486)),\n",
       " (8, (7977080974.873363, 940921069.1924549, 295462)),\n",
       " (2, (16806432286.595692, 165207.2056727273, 11))]"
      ]
     },
     "execution_count": 46,
     "metadata": {},
     "output_type": "execute_result"
    }
   ],
   "source": [
    "points_w_2.take(3)"
   ]
  },
  {
   "cell_type": "code",
   "execution_count": 48,
   "metadata": {
    "collapsed": false
   },
   "outputs": [],
   "source": [
    "def stdevs(cluster):\n",
    "    (sq_rev, sq_tax, n) = cluster\n",
    "    \n",
    "    std_rev = sqrt(sq_rev/n)\n",
    "    std_tax = sqrt(sq_tax/n)\n",
    "    \n",
    "    return (std_rev, std_tax)"
   ]
  },
  {
   "cell_type": "code",
   "execution_count": 49,
   "metadata": {
    "collapsed": true
   },
   "outputs": [],
   "source": [
    "cluster_std = points_w_2.mapValues(stdevs)"
   ]
  },
  {
   "cell_type": "code",
   "execution_count": 50,
   "metadata": {
    "collapsed": false
   },
   "outputs": [
    {
     "data": {
      "text/plain": [
       "[(0, (80.28775049296158, 74.15225674965224)),\n",
       " (8, (164.3127195157817, 56.432043886483974)),\n",
       " (2, (39087.8175471541, 122.55136424919489))]"
      ]
     },
     "execution_count": 50,
     "metadata": {},
     "output_type": "execute_result"
    }
   ],
   "source": [
    "cluster_std.take(3)"
   ]
  },
  {
   "cell_type": "code",
   "execution_count": 51,
   "metadata": {
    "collapsed": false
   },
   "outputs": [
    {
     "data": {
      "text/plain": [
       "[(0, (117.5863971528404, 69.05465659787941, 1145486)),\n",
       " (1, (877500.428, 30.302, 10)),\n",
       " (2, (372063.1990909091, 103.50545454545455, 11))]"
      ]
     },
     "execution_count": 51,
     "metadata": {},
     "output_type": "execute_result"
    }
   ],
   "source": [
    "means_f.take(3)"
   ]
  },
  {
   "cell_type": "code",
   "execution_count": 52,
   "metadata": {
    "collapsed": true
   },
   "outputs": [],
   "source": [
    "cluster_stats = means_f.join(cluster_std)"
   ]
  },
  {
   "cell_type": "code",
   "execution_count": 53,
   "metadata": {
    "collapsed": false
   },
   "outputs": [
    {
     "data": {
      "text/plain": [
       "[(0,\n",
       "  ((117.5863971528404, 69.05465659787941, 1145486),\n",
       "   (80.28775049296158, 74.15225674965224))),\n",
       " (9,\n",
       "  ((1640.8208640001437, 208.0451716576782, 18003),\n",
       "   (976.8069895588658, 63.4185824541965))),\n",
       " (3,\n",
       "  ((109277.83769230757, 21.010879120879125, 91),\n",
       "   (11744.553053653653, 66.54239499067711))),\n",
       " (6,\n",
       "  ((47735.491707317095, 33.12737804878048, 41),\n",
       "   (11349.61955513636, 36.59491219364705))),\n",
       " (1, ((877500.428, 30.302, 10), (47658.199670890375, 1.7160000000000006))),\n",
       " (4, ((1392155.74, 32.74, 1), (0.0, 0.0))),\n",
       " (7, ((262467.80625, 74.385, 8), (39946.08169664359, 66.4795444102921))),\n",
       " (8,\n",
       "  ((468.8240088906417, 189.6076820214196, 295462),\n",
       "   (164.3127195157817, 56.432043886483974))),\n",
       " (2,\n",
       "  ((372063.1990909091, 103.50545454545455, 11),\n",
       "   (39087.8175471541, 122.55136424919489))),\n",
       " (5,\n",
       "  ((615206.9512499999, 29.731249999999996, 8),\n",
       "   (49736.26150524646, 1.442501624782446)))]"
      ]
     },
     "execution_count": 53,
     "metadata": {},
     "output_type": "execute_result"
    }
   ],
   "source": [
    "cluster_stats.take(10)"
   ]
  },
  {
   "cell_type": "code",
   "execution_count": 54,
   "metadata": {
    "collapsed": false
   },
   "outputs": [
    {
     "data": {
      "text/plain": [
       "[(0, (33.56, 7.3)),\n",
       " (0, (61.2, 25.5)),\n",
       " (0, (71.86842105263158, 12.31578947368421))]"
      ]
     },
     "execution_count": 54,
     "metadata": {},
     "output_type": "execute_result"
    }
   ],
   "source": [
    "bycluster.take(3)"
   ]
  },
  {
   "cell_type": "code",
   "execution_count": 56,
   "metadata": {
    "collapsed": false
   },
   "outputs": [
    {
     "data": {
      "text/plain": [
       "PythonRDD[143] at RDD at PythonRDD.scala:43"
      ]
     },
     "execution_count": 56,
     "metadata": {},
     "output_type": "execute_result"
    }
   ],
   "source": [
    "bycluster_2 = bycluster.join(cluster_stats)\n",
    "bycluster_2.cache()"
   ]
  },
  {
   "cell_type": "code",
   "execution_count": 57,
   "metadata": {
    "collapsed": false
   },
   "outputs": [
    {
     "data": {
      "text/plain": [
       "[(0,\n",
       "  ((33.56, 7.3),\n",
       "   ((117.5863971528404, 69.05465659787941, 1145486),\n",
       "    (80.28775049296158, 74.15225674965224)))),\n",
       " (0,\n",
       "  ((61.2, 25.5),\n",
       "   ((117.5863971528404, 69.05465659787941, 1145486),\n",
       "    (80.28775049296158, 74.15225674965224)))),\n",
       " (0,\n",
       "  ((71.86842105263158, 12.31578947368421),\n",
       "   ((117.5863971528404, 69.05465659787941, 1145486),\n",
       "    (80.28775049296158, 74.15225674965224))))]"
      ]
     },
     "execution_count": 57,
     "metadata": {},
     "output_type": "execute_result"
    }
   ],
   "source": [
    "bycluster_2.take(3)"
   ]
  },
  {
   "cell_type": "code",
   "execution_count": 74,
   "metadata": {
    "collapsed": false
   },
   "outputs": [],
   "source": [
    "def get_outlier(point):\n",
    "    \n",
    "    (p, stats) = point\n",
    "    rev, tax = p\n",
    "    means, stdev = stats\n",
    "    (rev_avg, tax_avg, count) = means\n",
    "    (rev_std, tax_std) = stdev\n",
    "    \n",
    "#    (rev,tax),((rev_avg,tax_avg,count),(rev_std,tax_std)) = point\n",
    "    if rev_std == 0: \n",
    "        rev_std = 0.0001\n",
    "    if tax_std == 0:\n",
    "        tax_std = 0.0001\n",
    "        \n",
    "    z_rev = (rev-rev_avg)/rev_std\n",
    "    z_tax = (tax-tax_avg)/tax_std\n",
    "\n",
    "    # se calcula la hipotenusa\n",
    "    z = sqrt(z_rev**2 + z_tax**2)\n",
    "    \n",
    "    return (rev, tax, z, z>3)"
   ]
  },
  {
   "cell_type": "code",
   "execution_count": 75,
   "metadata": {
    "collapsed": false
   },
   "outputs": [
    {
     "data": {
      "text/plain": [
       "(33.56, 7.3, 1.3374865010892811, False)"
      ]
     },
     "execution_count": 75,
     "metadata": {},
     "output_type": "execute_result"
    }
   ],
   "source": [
    "get_outlier(bycluster_2.first()[1])"
   ]
  },
  {
   "cell_type": "code",
   "execution_count": 76,
   "metadata": {
    "collapsed": false
   },
   "outputs": [],
   "source": [
    "outlier = bycluster_2.mapValues(get_outlier)"
   ]
  },
  {
   "cell_type": "code",
   "execution_count": 77,
   "metadata": {
    "collapsed": false
   },
   "outputs": [
    {
     "data": {
      "text/plain": [
       "[(0, (33.56, 7.3, 1.3374865010892811, False)),\n",
       " (0, (61.2, 25.5, 0.9155499894001947, False)),\n",
       " (0, (71.86842105263158, 12.31578947368421, 0.9537962437272972, False))]"
      ]
     },
     "execution_count": 77,
     "metadata": {},
     "output_type": "execute_result"
    }
   ],
   "source": [
    "outlier.take(3)"
   ]
  },
  {
   "cell_type": "code",
   "execution_count": 80,
   "metadata": {
    "collapsed": false
   },
   "outputs": [],
   "source": [
    "outlier.saveAsTextFile(\"data/outlier_spark\")"
   ]
  },
  {
   "cell_type": "code",
   "execution_count": null,
   "metadata": {
    "collapsed": true
   },
   "outputs": [],
   "source": []
  },
  {
   "cell_type": "code",
   "execution_count": null,
   "metadata": {
    "collapsed": true
   },
   "outputs": [],
   "source": []
  },
  {
   "cell_type": "code",
   "execution_count": null,
   "metadata": {
    "collapsed": true
   },
   "outputs": [],
   "source": []
  },
  {
   "cell_type": "code",
   "execution_count": null,
   "metadata": {
    "collapsed": true
   },
   "outputs": [],
   "source": []
  },
  {
   "cell_type": "code",
   "execution_count": null,
   "metadata": {
    "collapsed": true
   },
   "outputs": [],
   "source": []
  }
 ],
 "metadata": {
  "kernelspec": {
   "display_name": "PySpark",
   "language": "python",
   "name": "pyspark"
  },
  "language_info": {
   "codemirror_mode": {
    "name": "ipython",
    "version": 2
   },
   "file_extension": ".py",
   "mimetype": "text/x-python",
   "name": "python",
   "nbconvert_exporter": "python",
   "pygments_lexer": "ipython2",
   "version": "2.7.10"
  }
 },
 "nbformat": 4,
 "nbformat_minor": 0
}
