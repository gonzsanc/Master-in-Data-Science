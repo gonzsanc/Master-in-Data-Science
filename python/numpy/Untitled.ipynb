{
 "cells": [
  {
   "cell_type": "code",
   "execution_count": 1,
   "metadata": {
    "collapsed": true
   },
   "outputs": [],
   "source": [
    "#Alien Blaster"
   ]
  },
  {
   "cell_type": "code",
   "execution_count": 2,
   "metadata": {
    "collapsed": false
   },
   "outputs": [],
   "source": [
    "class Player(object):\n",
    "    \"\"\" A player in a shooter game\"\"\"\n",
    "    def blast(self, enemy):\n",
    "        print \"the player blasts the enemy\"\n",
    "        enemy.die()"
   ]
  },
  {
   "cell_type": "code",
   "execution_count": null,
   "metadata": {
    "collapsed": true
   },
   "outputs": [],
   "source": [
    "class Alien (object):\n",
    "    \"\"\" An alien in a shooter game\"\"\"\n",
    "    def die (self):\n",
    "        print \"The alien says: good-bye cruel Universe\"\n",
    "        "
   ]
  },
  {
   "cell_type": "code",
   "execution_count": null,
   "metadata": {
    "collapsed": false
   },
   "outputs": [
    {
     "name": "stdout",
     "output_type": "stream",
     "text": [
      "\tDeadh of an alien\n",
      "\n",
      "the player blasts the enemy\n",
      "The alien says: good-bye cruel Universe\n"
     ]
    }
   ],
   "source": [
    "# main\n",
    "print \"\\tDeadh of an alien\\n\"\n",
    "\n",
    "hero=Player()\n",
    "invader=Alien()\n",
    "hero.blast(invader)\n",
    "\n",
    "raw_input (\"\\n\\n Press the enter key to exit.\")\n",
    "\n"
   ]
  }
 ],
 "metadata": {
  "kernelspec": {
   "display_name": "Python 2",
   "language": "python",
   "name": "python2"
  },
  "language_info": {
   "codemirror_mode": {
    "name": "ipython",
    "version": 2
   },
   "file_extension": ".py",
   "mimetype": "text/x-python",
   "name": "python",
   "nbconvert_exporter": "python",
   "pygments_lexer": "ipython2",
   "version": "2.7.10"
  }
 },
 "nbformat": 4,
 "nbformat_minor": 0
}
