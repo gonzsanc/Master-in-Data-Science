{
 "cells": [
  {
   "cell_type": "code",
   "execution_count": 1,
   "metadata": {
    "collapsed": false
   },
   "outputs": [],
   "source": [
    "filesPath =\"/home/gonzalo/Data/challenge/\"\n",
    "\n",
    "fileBookings = filesPath + 'bookings.csv.bz2'\n",
    "fileSearches = filesPath + 'searches.csv.bz2'\n",
    "csvDelimiter = '^'\n",
    "\n",
    "import pandas as pd\n",
    "from pandas import DataFrame, Series\n",
    "import numpy as np"
   ]
  },
  {
   "cell_type": "code",
   "execution_count": null,
   "metadata": {
    "collapsed": true
   },
   "outputs": [],
   "source": [
    "_topTens =[] "
   ]
  },
  {
   "cell_type": "code",
   "execution_count": null,
   "metadata": {
    "collapsed": false
   },
   "outputs": [],
   "source": []
  },
  {
   "cell_type": "code",
   "execution_count": 2,
   "metadata": {
    "collapsed": false
   },
   "outputs": [],
   "source": [
    "dfChunks = pd.read_csv(fileBookings, delimiter='^',usecols=[\"arr_port\",\"pax\"], chunksize=2e5)"
   ]
  },
  {
   "cell_type": "code",
   "execution_count": 3,
   "metadata": {
    "collapsed": true
   },
   "outputs": [],
   "source": [
    "Dfs = DataFrame([])\n",
    "firstRow=True\n",
    "\n",
    "for chunk in dfChunks:\n",
    "    chunk = gr = chunk.groupby([\"arr_port\"]).sum()\n",
    "    chunk = chunk.sort_values([\"pax\"],ascending=False)\n",
    "    \n",
    "    if firstRow==True:\n",
    "        Dfs=DataFrame(chunk)\n",
    "        firstRow=False\n",
    "    else:\n",
    "        Dfs = pd.concat([Dfs, chunk], axis=1)"
   ]
  },
  {
   "cell_type": "markdown",
   "metadata": {},
   "source": [
    "#Otra opcion:\n",
    "\n",
    "Dfs = DataFrame([])\n",
    "firstRow=True\n",
    "\n",
    "for chunk in dfChunks:\n",
    "    chunk = gr = chunk.groupby(\"arr_port\").sum()\n",
    "    chunk = chunk.sort_values([\"pax\"],ascending=False)\n",
    "    \n",
    "    if firstRow==True:\n",
    "        Dfs=DataFrame(chunk)\n",
    "        firstRow=False\n",
    "    else:\n",
    "        Dfs = pd.concat([Dfs, chunk], axis=1)"
   ]
  },
  {
   "cell_type": "code",
   "execution_count": 4,
   "metadata": {
    "collapsed": false
   },
   "outputs": [],
   "source": [
    "DfsT = Dfs.T\n",
    "\n",
    "sumcol = {col: DfsT[col].sum() for col in DfsT}\n",
    "\n",
    "DfTotals = DataFrame(sumcol,index=[\"Totals\"])\n"
   ]
  },
  {
   "cell_type": "code",
   "execution_count": 6,
   "metadata": {
    "collapsed": false
   },
   "outputs": [],
   "source": [
    "top = DfTotals.T.sort_values(\"Totals\",ascending=False).head(10)"
   ]
  },
  {
   "cell_type": "code",
   "execution_count": 7,
   "metadata": {
    "collapsed": false
   },
   "outputs": [
    {
     "data": {
      "text/html": [
       "<div>\n",
       "<table border=\"1\" class=\"dataframe\">\n",
       "  <thead>\n",
       "    <tr style=\"text-align: right;\">\n",
       "      <th></th>\n",
       "      <th>Totals</th>\n",
       "    </tr>\n",
       "  </thead>\n",
       "  <tbody>\n",
       "    <tr>\n",
       "      <th>LHR</th>\n",
       "      <td>88809</td>\n",
       "    </tr>\n",
       "    <tr>\n",
       "      <th>MCO</th>\n",
       "      <td>70930</td>\n",
       "    </tr>\n",
       "    <tr>\n",
       "      <th>LAX</th>\n",
       "      <td>70530</td>\n",
       "    </tr>\n",
       "    <tr>\n",
       "      <th>LAS</th>\n",
       "      <td>69630</td>\n",
       "    </tr>\n",
       "    <tr>\n",
       "      <th>JFK</th>\n",
       "      <td>66270</td>\n",
       "    </tr>\n",
       "    <tr>\n",
       "      <th>CDG</th>\n",
       "      <td>64490</td>\n",
       "    </tr>\n",
       "    <tr>\n",
       "      <th>BKK</th>\n",
       "      <td>59460</td>\n",
       "    </tr>\n",
       "    <tr>\n",
       "      <th>MIA</th>\n",
       "      <td>58150</td>\n",
       "    </tr>\n",
       "    <tr>\n",
       "      <th>SFO</th>\n",
       "      <td>58000</td>\n",
       "    </tr>\n",
       "    <tr>\n",
       "      <th>DXB</th>\n",
       "      <td>55590</td>\n",
       "    </tr>\n",
       "  </tbody>\n",
       "</table>\n",
       "</div>"
      ],
      "text/plain": [
       "          Totals\n",
       "LHR        88809\n",
       "MCO        70930\n",
       "LAX        70530\n",
       "LAS        69630\n",
       "JFK        66270\n",
       "CDG        64490\n",
       "BKK        59460\n",
       "MIA        58150\n",
       "SFO        58000\n",
       "DXB        55590"
      ]
     },
     "execution_count": 7,
     "metadata": {},
     "output_type": "execute_result"
    }
   ],
   "source": [
    "top"
   ]
  },
  {
   "cell_type": "code",
   "execution_count": 11,
   "metadata": {
    "collapsed": false
   },
   "outputs": [
    {
     "name": "stdout",
     "output_type": "stream",
     "text": [
      "****LHR     ****\n",
      "****MCO     ****\n",
      "****LAX     ****\n",
      "****LAS     ****\n",
      "****JFK     ****\n",
      "****CDG     ****\n",
      "****BKK     ****\n",
      "****MIA     ****\n",
      "****SFO     ****\n",
      "****DXB     ****\n"
     ]
    }
   ],
   "source": [
    "names = []\n",
    "for x in top.index:\n",
    "    print \"****\" + str(x) + \"****\"\n",
    "    "
   ]
  },
  {
   "cell_type": "markdown",
   "metadata": {
    "collapsed": false
   },
   "source": [
    "\n",
    "lista = []\n",
    "for chunk in b:\n",
    "    s=chunk.groupby(\"arr_port\").sum('pax')\n",
    "    lista.append(s)\n",
    "\n",
    "todosLosDf=pd.concat(lista)\n",
    "\n",
    "sTodos = todosDf.groupby(\"arr_port\").sum(\"pax\")\n",
    "sTodos.reset_index().sort(\"pax\",ascending=False).head() # reset_index convierte la serie \n",
    "#en un dataframe cuyos índices son las columnas."
   ]
  },
  {
   "cell_type": "code",
   "execution_count": 12,
   "metadata": {
    "collapsed": false
   },
   "outputs": [],
   "source": [
    "import sys\n",
    "sys.path.append(\"/usr/lib/python2.7/\")"
   ]
  },
  {
   "cell_type": "code",
   "execution_count": 13,
   "metadata": {
    "collapsed": false
   },
   "outputs": [
    {
     "ename": "ImportError",
     "evalue": "No module named GeoBases",
     "output_type": "error",
     "traceback": [
      "\u001b[1;31m---------------------------------------------------------------------------\u001b[0m",
      "\u001b[1;31mImportError\u001b[0m                               Traceback (most recent call last)",
      "\u001b[1;32m<ipython-input-13-0c96dab84d83>\u001b[0m in \u001b[0;36m<module>\u001b[1;34m()\u001b[0m\n\u001b[1;32m----> 1\u001b[1;33m \u001b[1;32mfrom\u001b[0m \u001b[0mGeoBases\u001b[0m \u001b[1;32mimport\u001b[0m \u001b[0mGeoBase\u001b[0m\u001b[1;33m\u001b[0m\u001b[0m\n\u001b[0m",
      "\u001b[1;31mImportError\u001b[0m: No module named GeoBases"
     ]
    }
   ],
   "source": [
    "from GeoBases import GeoBase"
   ]
  },
  {
   "cell_type": "code",
   "execution_count": null,
   "metadata": {
    "collapsed": false
   },
   "outputs": [],
   "source": [
    "from GeoBases import *"
   ]
  },
  {
   "cell_type": "code",
   "execution_count": null,
   "metadata": {
    "collapsed": true
   },
   "outputs": [],
   "source": []
  }
 ],
 "metadata": {
  "kernelspec": {
   "display_name": "Python 2",
   "language": "python",
   "name": "python2"
  },
  "language_info": {
   "codemirror_mode": {
    "name": "ipython",
    "version": 2
   },
   "file_extension": ".py",
   "mimetype": "text/x-python",
   "name": "python",
   "nbconvert_exporter": "python",
   "pygments_lexer": "ipython2",
   "version": "2.7.11"
  }
 },
 "nbformat": 4,
 "nbformat_minor": 0
}
