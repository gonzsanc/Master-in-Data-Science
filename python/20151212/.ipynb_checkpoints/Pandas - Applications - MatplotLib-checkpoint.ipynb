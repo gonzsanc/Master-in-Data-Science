{
 "cells": [
  {
   "cell_type": "code",
   "execution_count": 3,
   "metadata": {
    "collapsed": true
   },
   "outputs": [],
   "source": [
    "from pandas import DataFrame\n",
    "import numpy as np\n",
    "import pandas as pd\n",
    "from pandas import Series, DataFrame\n",
    "import pandas\n",
    "import numpy\n",
    "import matplotlib\n",
    "import matplotlib.pyplot as plt"
   ]
  },
  {
   "cell_type": "code",
   "execution_count": 8,
   "metadata": {
    "collapsed": true
   },
   "outputs": [],
   "source": [
    "aircraftdf = pd.read_csv(\"../../Data/opentraveldata/optd_aircraft.csv\",sep=\"^\")"
   ]
  },
  {
   "cell_type": "code",
   "execution_count": 7,
   "metadata": {
    "collapsed": false
   },
   "outputs": [
    {
     "data": {
      "text/html": [
       "<div>\n",
       "<table border=\"1\" class=\"dataframe\">\n",
       "  <thead>\n",
       "    <tr style=\"text-align: right;\">\n",
       "      <th></th>\n",
       "      <th>iata_code</th>\n",
       "      <th>manufacturer</th>\n",
       "      <th>model</th>\n",
       "      <th>iata_group</th>\n",
       "      <th>iata_category</th>\n",
       "      <th>icao_code</th>\n",
       "      <th>nb_engines</th>\n",
       "      <th>aircraft_type</th>\n",
       "    </tr>\n",
       "  </thead>\n",
       "  <tbody>\n",
       "    <tr>\n",
       "      <th>0</th>\n",
       "      <td>100</td>\n",
       "      <td>Fokker</td>\n",
       "      <td>100</td>\n",
       "      <td>100</td>\n",
       "      <td>2J</td>\n",
       "      <td>F100</td>\n",
       "      <td>2</td>\n",
       "      <td>J</td>\n",
       "    </tr>\n",
       "    <tr>\n",
       "      <th>1</th>\n",
       "      <td>141</td>\n",
       "      <td>BAe</td>\n",
       "      <td>146-100</td>\n",
       "      <td>146</td>\n",
       "      <td>4J</td>\n",
       "      <td>B461</td>\n",
       "      <td>4</td>\n",
       "      <td>J</td>\n",
       "    </tr>\n",
       "    <tr>\n",
       "      <th>2</th>\n",
       "      <td>142</td>\n",
       "      <td>BAe</td>\n",
       "      <td>BAE Systems 146-200 Passenger</td>\n",
       "      <td>146</td>\n",
       "      <td>4J</td>\n",
       "      <td>B462</td>\n",
       "      <td>4</td>\n",
       "      <td>J</td>\n",
       "    </tr>\n",
       "    <tr>\n",
       "      <th>3</th>\n",
       "      <td>143</td>\n",
       "      <td>BAe</td>\n",
       "      <td>146-300</td>\n",
       "      <td>146</td>\n",
       "      <td>4J</td>\n",
       "      <td>B463</td>\n",
       "      <td>4</td>\n",
       "      <td>J</td>\n",
       "    </tr>\n",
       "    <tr>\n",
       "      <th>4</th>\n",
       "      <td>146</td>\n",
       "      <td>BAe</td>\n",
       "      <td>146</td>\n",
       "      <td>NaN</td>\n",
       "      <td>NaN</td>\n",
       "      <td>NaN</td>\n",
       "      <td>NaN</td>\n",
       "      <td>NaN</td>\n",
       "    </tr>\n",
       "  </tbody>\n",
       "</table>\n",
       "</div>"
      ],
      "text/plain": [
       "  iata_code manufacturer                          model iata_group  \\\n",
       "0       100       Fokker                            100        100   \n",
       "1       141          BAe                        146-100        146   \n",
       "2       142          BAe  BAE Systems 146-200 Passenger        146   \n",
       "3       143          BAe                        146-300        146   \n",
       "4       146          BAe                            146        NaN   \n",
       "\n",
       "  iata_category icao_code  nb_engines aircraft_type  \n",
       "0            2J      F100           2             J  \n",
       "1            4J      B461           4             J  \n",
       "2            4J      B462           4             J  \n",
       "3            4J      B463           4             J  \n",
       "4           NaN       NaN         NaN           NaN  "
      ]
     },
     "execution_count": 7,
     "metadata": {},
     "output_type": "execute_result"
    }
   ],
   "source": [
    "aircraftdf.head()"
   ]
  },
  {
   "cell_type": "code",
   "execution_count": 18,
   "metadata": {
    "collapsed": false
   },
   "outputs": [
    {
     "data": {
      "text/plain": [
       "457"
      ]
     },
     "execution_count": 18,
     "metadata": {},
     "output_type": "execute_result"
    }
   ],
   "source": [
    "len(aircraftdf)"
   ]
  },
  {
   "cell_type": "code",
   "execution_count": 20,
   "metadata": {
    "collapsed": false
   },
   "outputs": [
    {
     "data": {
      "text/html": [
       "<div>\n",
       "<table border=\"1\" class=\"dataframe\">\n",
       "  <thead>\n",
       "    <tr style=\"text-align: right;\">\n",
       "      <th></th>\n",
       "      <th>iata_code</th>\n",
       "      <th>manufacturer</th>\n",
       "      <th>model</th>\n",
       "      <th>iata_group</th>\n",
       "      <th>iata_category</th>\n",
       "      <th>icao_code</th>\n",
       "      <th>nb_engines</th>\n",
       "      <th>aircraft_type</th>\n",
       "    </tr>\n",
       "  </thead>\n",
       "  <tbody>\n",
       "    <tr>\n",
       "      <th>1</th>\n",
       "      <td>141</td>\n",
       "      <td>BAe</td>\n",
       "      <td>146-100</td>\n",
       "      <td>146</td>\n",
       "      <td>4J</td>\n",
       "      <td>B461</td>\n",
       "      <td>4</td>\n",
       "      <td>J</td>\n",
       "    </tr>\n",
       "    <tr>\n",
       "      <th>2</th>\n",
       "      <td>142</td>\n",
       "      <td>BAe</td>\n",
       "      <td>BAE Systems 146-200 Passenger</td>\n",
       "      <td>146</td>\n",
       "      <td>4J</td>\n",
       "      <td>B462</td>\n",
       "      <td>4</td>\n",
       "      <td>J</td>\n",
       "    </tr>\n",
       "    <tr>\n",
       "      <th>3</th>\n",
       "      <td>143</td>\n",
       "      <td>BAe</td>\n",
       "      <td>146-300</td>\n",
       "      <td>146</td>\n",
       "      <td>4J</td>\n",
       "      <td>B463</td>\n",
       "      <td>4</td>\n",
       "      <td>J</td>\n",
       "    </tr>\n",
       "    <tr>\n",
       "      <th>6</th>\n",
       "      <td>14X</td>\n",
       "      <td>BAe</td>\n",
       "      <td>146 Freighter (-100QT &amp; QC)</td>\n",
       "      <td>14F</td>\n",
       "      <td>4J</td>\n",
       "      <td>B461</td>\n",
       "      <td>4</td>\n",
       "      <td>J</td>\n",
       "    </tr>\n",
       "    <tr>\n",
       "      <th>7</th>\n",
       "      <td>14Y</td>\n",
       "      <td>BAe</td>\n",
       "      <td>146 Freighter (-200QT &amp; QC)</td>\n",
       "      <td>14F</td>\n",
       "      <td>4J</td>\n",
       "      <td>B462</td>\n",
       "      <td>4</td>\n",
       "      <td>J</td>\n",
       "    </tr>\n",
       "    <tr>\n",
       "      <th>8</th>\n",
       "      <td>14Z</td>\n",
       "      <td>BAe</td>\n",
       "      <td>146 Freighter (-300QT &amp; QC)</td>\n",
       "      <td>14F</td>\n",
       "      <td>4J</td>\n",
       "      <td>B463</td>\n",
       "      <td>4</td>\n",
       "      <td>J</td>\n",
       "    </tr>\n",
       "    <tr>\n",
       "      <th>33</th>\n",
       "      <td>342</td>\n",
       "      <td>Airbus</td>\n",
       "      <td>A340-200</td>\n",
       "      <td>340</td>\n",
       "      <td>4J</td>\n",
       "      <td>A342</td>\n",
       "      <td>4</td>\n",
       "      <td>J</td>\n",
       "    </tr>\n",
       "    <tr>\n",
       "      <th>34</th>\n",
       "      <td>343</td>\n",
       "      <td>Airbus</td>\n",
       "      <td>A340-300</td>\n",
       "      <td>340</td>\n",
       "      <td>4J</td>\n",
       "      <td>A343</td>\n",
       "      <td>4</td>\n",
       "      <td>J</td>\n",
       "    </tr>\n",
       "  </tbody>\n",
       "</table>\n",
       "</div>"
      ],
      "text/plain": [
       "   iata_code manufacturer                          model iata_group  \\\n",
       "1        141          BAe                        146-100        146   \n",
       "2        142          BAe  BAE Systems 146-200 Passenger        146   \n",
       "3        143          BAe                        146-300        146   \n",
       "6        14X          BAe    146 Freighter (-100QT & QC)        14F   \n",
       "7        14Y          BAe    146 Freighter (-200QT & QC)        14F   \n",
       "8        14Z          BAe    146 Freighter (-300QT & QC)        14F   \n",
       "33       342       Airbus                       A340-200        340   \n",
       "34       343       Airbus                       A340-300        340   \n",
       "\n",
       "   iata_category icao_code  nb_engines aircraft_type  \n",
       "1             4J      B461           4             J  \n",
       "2             4J      B462           4             J  \n",
       "3             4J      B463           4             J  \n",
       "6             4J      B461           4             J  \n",
       "7             4J      B462           4             J  \n",
       "8             4J      B463           4             J  \n",
       "33            4J      A342           4             J  \n",
       "34            4J      A343           4             J  "
      ]
     },
     "execution_count": 20,
     "metadata": {},
     "output_type": "execute_result"
    }
   ],
   "source": [
    "#vamos a filtrar por nb_engines para extraer los modelos que tienen cuatro motores:\n",
    "fourEngineDf = aircraftdf[aircraftdf[\"nb_engines\"]==4]\n",
    "fourEngineDf.head(8) "
   ]
  },
  {
   "cell_type": "code",
   "execution_count": 22,
   "metadata": {
    "collapsed": false
   },
   "outputs": [
    {
     "data": {
      "text/plain": [
       "iata_code        457\n",
       "manufacturer     453\n",
       "model            457\n",
       "iata_group       363\n",
       "iata_category    363\n",
       "icao_code        363\n",
       "nb_engines       343\n",
       "aircraft_type    362\n",
       "dtype: int64"
      ]
     },
     "execution_count": 22,
     "metadata": {},
     "output_type": "execute_result"
    }
   ],
   "source": [
    "#Count no tiene en cuenta losvalores NaN\n",
    "aircraftdf.count()"
   ]
  },
  {
   "cell_type": "code",
   "execution_count": 31,
   "metadata": {
    "collapsed": true
   },
   "outputs": [],
   "source": [
    "#Puedo cargar el resultado de count en una serie y acceder poniendo el nombre de columna:\n",
    "serie1 = aircraftdf[aircraftdf[\"aircraft_type\"]=='J'].count()\n",
    "serie1[\"nb_engines\"]"
   ]
  },
  {
   "cell_type": "code",
   "execution_count": 36,
   "metadata": {
    "collapsed": false
   },
   "outputs": [
    {
     "data": {
      "text/html": [
       "<div>\n",
       "<table border=\"1\" class=\"dataframe\">\n",
       "  <thead>\n",
       "    <tr style=\"text-align: right;\">\n",
       "      <th></th>\n",
       "      <th>iata_code</th>\n",
       "      <th>manufacturer</th>\n",
       "      <th>model</th>\n",
       "      <th>iata_group</th>\n",
       "      <th>iata_category</th>\n",
       "      <th>icao_code</th>\n",
       "      <th>nb_engines</th>\n",
       "    </tr>\n",
       "    <tr>\n",
       "      <th>aircraft_type</th>\n",
       "      <th></th>\n",
       "      <th></th>\n",
       "      <th></th>\n",
       "      <th></th>\n",
       "      <th></th>\n",
       "      <th></th>\n",
       "      <th></th>\n",
       "    </tr>\n",
       "  </thead>\n",
       "  <tbody>\n",
       "    <tr>\n",
       "      <th>H</th>\n",
       "      <td>12</td>\n",
       "      <td>12</td>\n",
       "      <td>12</td>\n",
       "      <td>12</td>\n",
       "      <td>12</td>\n",
       "      <td>12</td>\n",
       "      <td>0</td>\n",
       "    </tr>\n",
       "    <tr>\n",
       "      <th>J</th>\n",
       "      <td>231</td>\n",
       "      <td>230</td>\n",
       "      <td>231</td>\n",
       "      <td>231</td>\n",
       "      <td>231</td>\n",
       "      <td>231</td>\n",
       "      <td>231</td>\n",
       "    </tr>\n",
       "    <tr>\n",
       "      <th>P</th>\n",
       "      <td>30</td>\n",
       "      <td>30</td>\n",
       "      <td>30</td>\n",
       "      <td>30</td>\n",
       "      <td>30</td>\n",
       "      <td>30</td>\n",
       "      <td>30</td>\n",
       "    </tr>\n",
       "    <tr>\n",
       "      <th>S</th>\n",
       "      <td>6</td>\n",
       "      <td>4</td>\n",
       "      <td>6</td>\n",
       "      <td>6</td>\n",
       "      <td>6</td>\n",
       "      <td>6</td>\n",
       "      <td>0</td>\n",
       "    </tr>\n",
       "    <tr>\n",
       "      <th>T</th>\n",
       "      <td>83</td>\n",
       "      <td>82</td>\n",
       "      <td>83</td>\n",
       "      <td>83</td>\n",
       "      <td>83</td>\n",
       "      <td>83</td>\n",
       "      <td>82</td>\n",
       "    </tr>\n",
       "  </tbody>\n",
       "</table>\n",
       "</div>"
      ],
      "text/plain": [
       "               iata_code  manufacturer  model  iata_group  iata_category  \\\n",
       "aircraft_type                                                              \n",
       "H                     12            12     12          12             12   \n",
       "J                    231           230    231         231            231   \n",
       "P                     30            30     30          30             30   \n",
       "S                      6             4      6           6              6   \n",
       "T                     83            82     83          83             83   \n",
       "\n",
       "               icao_code  nb_engines  \n",
       "aircraft_type                         \n",
       "H                     12           0  \n",
       "J                    231         231  \n",
       "P                     30          30  \n",
       "S                      6           0  \n",
       "T                     83          82  "
      ]
     },
     "execution_count": 36,
     "metadata": {},
     "output_type": "execute_result"
    }
   ],
   "source": [
    "aircraftdf.groupby(\"aircraft_type\").count()"
   ]
  },
  {
   "cell_type": "code",
   "execution_count": 37,
   "metadata": {
    "collapsed": false
   },
   "outputs": [
    {
     "data": {
      "text/html": [
       "<div>\n",
       "<table border=\"1\" class=\"dataframe\">\n",
       "  <thead>\n",
       "    <tr style=\"text-align: right;\">\n",
       "      <th></th>\n",
       "      <th>nb_engines</th>\n",
       "    </tr>\n",
       "    <tr>\n",
       "      <th>aircraft_type</th>\n",
       "      <th></th>\n",
       "    </tr>\n",
       "  </thead>\n",
       "  <tbody>\n",
       "    <tr>\n",
       "      <th>H</th>\n",
       "      <td>NaN</td>\n",
       "    </tr>\n",
       "    <tr>\n",
       "      <th>J</th>\n",
       "      <td>589</td>\n",
       "    </tr>\n",
       "    <tr>\n",
       "      <th>P</th>\n",
       "      <td>63</td>\n",
       "    </tr>\n",
       "    <tr>\n",
       "      <th>S</th>\n",
       "      <td>NaN</td>\n",
       "    </tr>\n",
       "    <tr>\n",
       "      <th>T</th>\n",
       "      <td>174</td>\n",
       "    </tr>\n",
       "  </tbody>\n",
       "</table>\n",
       "</div>"
      ],
      "text/plain": [
       "               nb_engines\n",
       "aircraft_type            \n",
       "H                     NaN\n",
       "J                     589\n",
       "P                      63\n",
       "S                     NaN\n",
       "T                     174"
      ]
     },
     "execution_count": 37,
     "metadata": {},
     "output_type": "execute_result"
    }
   ],
   "source": [
    "aircraftdf.groupby(\"aircraft_type\").sum()"
   ]
  },
  {
   "cell_type": "code",
   "execution_count": 40,
   "metadata": {
    "collapsed": false
   },
   "outputs": [
    {
     "data": {
      "text/plain": [
       "iata_code        49\n",
       "manufacturer     49\n",
       "model            49\n",
       "iata_group       49\n",
       "iata_category    49\n",
       "icao_code        49\n",
       "nb_engines       49\n",
       "aircraft_type    49\n",
       "dtype: int64"
      ]
     },
     "execution_count": 40,
     "metadata": {},
     "output_type": "execute_result"
    }
   ],
   "source": [
    "#condiciones complejas:\n",
    "#nb_engines = 4 AND aircraft_type=\"J\"\n",
    "aircraftdf[(aircraftdf[\"aircraft_type\"]=='J') & (aircraftdf[\"nb_engines\"]==4)].count()"
   ]
  },
  {
   "cell_type": "code",
   "execution_count": 41,
   "metadata": {
    "collapsed": true
   },
   "outputs": [],
   "source": [
    "#cadenas de caracteres\n",
    "cadena =\"abc\"\n",
    "cadena ='abc'\n",
    "#Es indistinto usar comillas dobles o simples."
   ]
  },
  {
   "cell_type": "code",
   "execution_count": 42,
   "metadata": {
    "collapsed": true
   },
   "outputs": [],
   "source": [
    "#Triple comillas para hacer cadena multilínea.\n",
    "#http://vbcity.com/cfs-filesystemfile.ashx/__key/CommunityServer.Components.PostAttachments/00.00.61.18.99/Country-List.txt\n",
    "cadena = \"\"\"Abkhazia\n",
    "Afghanistan\n",
    "Akrotiri and Dhekelia\n",
    "Aland\n",
    "Albania\n",
    "Algeria\n",
    "American Samoa\n",
    "Andorra\n",
    "Angola\n",
    "Anguilla\n",
    "Antigua and Barbuda\n",
    "Argentina\n",
    "Armenia\n",
    "Aruba\n",
    "Ascension Island\n",
    "Australia\n",
    "Austria\n",
    "Azerbaijan\n",
    "Bahamas, The\n",
    "Bahrain\n",
    "Bangladesh\n",
    "Barbados\n",
    "Belarus\n",
    "Belgium\n",
    "Belize\n",
    "Benin\n",
    "Bermuda\n",
    "Bhutan\n",
    "Bolivia\n",
    "Bosnia and Herzegovina\n",
    "Botswana\n",
    "Brazil\n",
    "Brunei\n",
    "Bulgaria\n",
    "Burkina Faso\n",
    "Burundi\n",
    "Cambodia\n",
    "Cameroon\n",
    "Canada\n",
    "Cape Verde\n",
    "Cayman Islands\n",
    "Central Africa Republic\n",
    "Chad\n",
    "Chile\n",
    "China\n",
    "Christmas Island\n",
    "Cocos (Keeling) Islands\n",
    "Colombia\n",
    "Comoros\n",
    "Congo\n",
    "Cook Islands\n",
    "Costa Rica\n",
    "Cote d'lvoire\n",
    "Croatia\n",
    "Cuba\n",
    "Cyprus\n",
    "Czech Republic\n",
    "Denmark\n",
    "Djibouti\n",
    "Dominica\n",
    "Dominican Republic\n",
    "East Timor Ecuador\n",
    "Egypt\n",
    "El Salvador\n",
    "Equatorial Guinea\n",
    "Eritrea\n",
    "Estonia\n",
    "Ethiopia\n",
    "Falkland Islands\n",
    "Faroe Islands\n",
    "Fiji\n",
    "Finland\n",
    "France\n",
    "French Polynesia\n",
    "Gabon\n",
    "Cambia, The\n",
    "Georgia\n",
    "Germany\n",
    "Ghana\n",
    "Gibraltar\n",
    "Greece\n",
    "Greenland\n",
    "Grenada\n",
    "Guam\n",
    "Guatemala\n",
    "Guemsey\n",
    "Guinea\n",
    "Guinea-Bissau\n",
    "Guyana\n",
    "Haiti\n",
    "Honduras\n",
    "Hong Kong\n",
    "Hungary\n",
    "Iceland\n",
    "India\n",
    "Indonesia\n",
    "Iran\n",
    "Iraq\n",
    "Ireland\n",
    "Isle of Man\n",
    "Israel\n",
    "Italy\n",
    "Jamaica\n",
    "Japan\n",
    "Jersey\n",
    "Jordan\n",
    "Kazakhstan\n",
    "Kenya\n",
    "Kiribati\n",
    "Korea, N\n",
    "Korea, S\n",
    "Kosovo\n",
    "Kuwait\n",
    "Kyrgyzstan\n",
    "Laos\n",
    "Latvia\n",
    "Lebanon\n",
    "Lesotho\n",
    "Liberia\n",
    "Libya\n",
    "Liechtenstein\n",
    "Lithuania\n",
    "Luxembourg\n",
    "Macao\n",
    "Macedonia\n",
    "Madagascar\n",
    "Malawi\n",
    "Malaysia\n",
    "Maldives\n",
    "Mali\n",
    "Malta\n",
    "Marshall Islands\n",
    "Mauritania\n",
    "Mauritius\n",
    "Mayotte\n",
    "Mexico\n",
    "Micronesia\n",
    "Moldova\n",
    "Monaco\n",
    "Mongolia\n",
    "Montenegro\n",
    "Montserrat\n",
    "Morocco\n",
    "Mozambique\n",
    "Myanmar\n",
    "Nagorno-Karabakh\n",
    "Namibia\n",
    "Nauru\n",
    "Nepal\n",
    "Netherlands\n",
    "Netherlands Antilles\n",
    "New Caledonia\n",
    "New Zealand\n",
    "Nicaragua\n",
    "Niger\n",
    "Nigeria\n",
    "Niue\n",
    "Norfolk Island\n",
    "Northern Cyprus\n",
    "Northern Mariana Islands\n",
    "Norway\n",
    "Oman\n",
    "Pakistan\n",
    "Palau\n",
    "Palestine\n",
    "Panama\n",
    "Papua New Guinea\n",
    "Paraguay\n",
    "Peru\n",
    "Philippines\n",
    "Pitcaim Islands\n",
    "Poland\n",
    "Portugal\n",
    "Puerto Rico\n",
    "Qatar\n",
    "Romania\n",
    "Russia\n",
    "Rwanda\n",
    "Sahrawi Arab Democratic Republic\n",
    "Saint-Barthelemy\n",
    "Saint Helena\n",
    "Saint Kitts and Nevis\n",
    "Saint Lucia\n",
    "Saint Martin\n",
    "Saint Pierre and Miquelon\n",
    "Saint Vincent and Grenadines\n",
    "Samos\n",
    "San Marino\n",
    "Sao Tome and Principe\n",
    "Saudi Arabia\n",
    "Senegal\n",
    "Serbia\n",
    "Seychelles\n",
    "Sierra Leone\n",
    "Singapore\n",
    "Slovakia\n",
    "Slovenia\n",
    "Solomon Islands\n",
    "Somalia\n",
    "Somaliland\n",
    "South Africa\n",
    "South Ossetia\n",
    "Spain\n",
    "Sri Lanka\n",
    "Sudan\n",
    "Suriname\n",
    "Svalbard\n",
    "Swaziland\n",
    "Sweden\n",
    "Switzerland\n",
    "Syria\n",
    "Tajikistan\n",
    "Tanzania\n",
    "Thailand\n",
    "Togo\n",
    "Tokelau\n",
    "Tonga\n",
    "Transnistria\n",
    "Trinidad and Tobago\n",
    "Tristan da Cunha\n",
    "Tunisia\n",
    "Turkey\n",
    "Turkmenistan\n",
    "Turks and Caicos Islands\n",
    "Tuvalu\n",
    "Uganda\n",
    "Ukraine\n",
    "United Arab Emirates\n",
    "United Kingdom\n",
    "United States\n",
    "Uruguay\n",
    "Uzbekistan\n",
    "Vanuatu\n",
    "Vatican City\n",
    "Venezuela\n",
    "Vietnam\n",
    "Virgin Islands, British\n",
    "Virgin Islands, U.S.\n",
    "Wallis and Futuna\n",
    "Yemen\n",
    "Zambia\n",
    "Zimbabwe\"\"\""
   ]
  },
  {
   "cell_type": "code",
   "execution_count": 43,
   "metadata": {
    "collapsed": false
   },
   "outputs": [
    {
     "data": {
      "text/plain": [
       "\"Abkhazia\\nAfghanistan\\nAkrotiri and Dhekelia\\nAland\\nAlbania\\nAlgeria\\nAmerican Samoa\\nAndorra\\nAngola\\nAnguilla\\nAntigua and Barbuda\\nArgentina\\nArmenia\\nAruba\\nAscension Island\\nAustralia\\nAustria\\nAzerbaijan\\nBahamas, The\\nBahrain\\nBangladesh\\nBarbados\\nBelarus\\nBelgium\\nBelize\\nBenin\\nBermuda\\nBhutan\\nBolivia\\nBosnia and Herzegovina\\nBotswana\\nBrazil\\nBrunei\\nBulgaria\\nBurkina Faso\\nBurundi\\nCambodia\\nCameroon\\nCanada\\nCape Verde\\nCayman Islands\\nCentral Africa Republic\\nChad\\nChile\\nChina\\nChristmas Island\\nCocos (Keeling) Islands\\nColombia\\nComoros\\nCongo\\nCook Islands\\nCosta Rica\\nCote d'lvoire\\nCroatia\\nCuba\\nCyprus\\nCzech Republic\\nDenmark\\nDjibouti\\nDominica\\nDominican Republic\\nEast Timor Ecuador\\nEgypt\\nEl Salvador\\nEquatorial Guinea\\nEritrea\\nEstonia\\nEthiopia\\nFalkland Islands\\nFaroe Islands\\nFiji\\nFinland\\nFrance\\nFrench Polynesia\\nGabon\\nCambia, The\\nGeorgia\\nGermany\\nGhana\\nGibraltar\\nGreece\\nGreenland\\nGrenada\\nGuam\\nGuatemala\\nGuemsey\\nGuinea\\nGuinea-Bissau\\nGuyana\\nHaiti\\nHonduras\\nHong Kong\\nHungary\\nIceland\\nIndia\\nIndonesia\\nIran\\nIraq\\nIreland\\nIsle of Man\\nIsrael\\nItaly\\nJamaica\\nJapan\\nJersey\\nJordan\\nKazakhstan\\nKenya\\nKiribati\\nKorea, N\\nKorea, S\\nKosovo\\nKuwait\\nKyrgyzstan\\nLaos\\nLatvia\\nLebanon\\nLesotho\\nLiberia\\nLibya\\nLiechtenstein\\nLithuania\\nLuxembourg\\nMacao\\nMacedonia\\nMadagascar\\nMalawi\\nMalaysia\\nMaldives\\nMali\\nMalta\\nMarshall Islands\\nMauritania\\nMauritius\\nMayotte\\nMexico\\nMicronesia\\nMoldova\\nMonaco\\nMongolia\\nMontenegro\\nMontserrat\\nMorocco\\nMozambique\\nMyanmar\\nNagorno-Karabakh\\nNamibia\\nNauru\\nNepal\\nNetherlands\\nNetherlands Antilles\\nNew Caledonia\\nNew Zealand\\nNicaragua\\nNiger\\nNigeria\\nNiue\\nNorfolk Island\\nNorthern Cyprus\\nNorthern Mariana Islands\\nNorway\\nOman\\nPakistan\\nPalau\\nPalestine\\nPanama\\nPapua New Guinea\\nParaguay\\nPeru\\nPhilippines\\nPitcaim Islands\\nPoland\\nPortugal\\nPuerto Rico\\nQatar\\nRomania\\nRussia\\nRwanda\\nSahrawi Arab Democratic Republic\\nSaint-Barthelemy\\nSaint Helena\\nSaint Kitts and Nevis\\nSaint Lucia\\nSaint Martin\\nSaint Pierre and Miquelon\\nSaint Vincent and Grenadines\\nSamos\\nSan Marino\\nSao Tome and Principe\\nSaudi Arabia\\nSenegal\\nSerbia\\nSeychelles\\nSierra Leone\\nSingapore\\nSlovakia\\nSlovenia\\nSolomon Islands\\nSomalia\\nSomaliland\\nSouth Africa\\nSouth Ossetia\\nSpain\\nSri Lanka\\nSudan\\nSuriname\\nSvalbard\\nSwaziland\\nSweden\\nSwitzerland\\nSyria\\nTajikistan\\nTanzania\\nThailand\\nTogo\\nTokelau\\nTonga\\nTransnistria\\nTrinidad and Tobago\\nTristan da Cunha\\nTunisia\\nTurkey\\nTurkmenistan\\nTurks and Caicos Islands\\nTuvalu\\nUganda\\nUkraine\\nUnited Arab Emirates\\nUnited Kingdom\\nUnited States\\nUruguay\\nUzbekistan\\nVanuatu\\nVatican City\\nVenezuela\\nVietnam\\nVirgin Islands, British\\nVirgin Islands, U.S.\\nWallis and Futuna\\nYemen\\nZambia\\nZimbabwe\""
      ]
     },
     "execution_count": 43,
     "metadata": {},
     "output_type": "execute_result"
    }
   ],
   "source": [
    "cadena"
   ]
  },
  {
   "cell_type": "code",
   "execution_count": 47,
   "metadata": {
    "collapsed": false
   },
   "outputs": [
    {
     "data": {
      "text/plain": [
       "'Abkhazia'"
      ]
     },
     "execution_count": 47,
     "metadata": {},
     "output_type": "execute_result"
    }
   ],
   "source": [
    "#Voy a asignar los países a una variable convirtiendo la cadena en una lista:\n",
    "paises=cadena.split(\"\\n\")\n",
    "paises[0]"
   ]
  },
  {
   "cell_type": "code",
   "execution_count": 49,
   "metadata": {
    "collapsed": false
   },
   "outputs": [
    {
     "data": {
      "text/plain": [
       "['Abkhazia', 'Afghanistan', 'Akrotiri and Dhekelia', 'Aland', 'Albania']"
      ]
     },
     "execution_count": 49,
     "metadata": {},
     "output_type": "execute_result"
    }
   ],
   "source": [
    "#Ver los 5 priemros elementos de la lista\n",
    "paises[0:5]"
   ]
  },
  {
   "cell_type": "code",
   "execution_count": 53,
   "metadata": {
    "collapsed": false
   },
   "outputs": [
    {
     "data": {
      "text/plain": [
       "array([93, 88, 22, 50, 95, 17, 53, 39, 98, 24])"
      ]
     },
     "execution_count": 53,
     "metadata": {},
     "output_type": "execute_result"
    }
   ],
   "source": [
    "#Creamos una serie de números aleatorios de mil items entre cero y cien.\n",
    "random = np.random.randint(0,100,10)\n",
    "random"
   ]
  },
  {
   "cell_type": "markdown",
   "metadata": {},
   "source": [
    "# Nueva celda"
   ]
  },
  {
   "cell_type": "code",
   "execution_count": 54,
   "metadata": {
    "collapsed": false
   },
   "outputs": [
    {
     "data": {
      "text/plain": [
       "242"
      ]
     },
     "execution_count": 54,
     "metadata": {},
     "output_type": "execute_result"
    }
   ],
   "source": [
    "len(paises)"
   ]
  },
  {
   "cell_type": "code",
   "execution_count": 70,
   "metadata": {
    "collapsed": false
   },
   "outputs": [],
   "source": [
    "#Voy a crear una lista de posiciones aleatorias de mis países de diez items\n",
    "random = np.random.randint(0,len(paises),10)\n",
    "\n",
    "#Creo un dataframe con ese array:\n",
    "data = DataFrame({\"position\":random})"
   ]
  },
  {
   "cell_type": "code",
   "execution_count": 61,
   "metadata": {
    "collapsed": false
   },
   "outputs": [],
   "source": [
    "#Función que devuelve país en fon del entero.\n",
    "\n",
    "def getPais(pos):\n",
    "        return paises[pos]"
   ]
  },
  {
   "cell_type": "code",
   "execution_count": 63,
   "metadata": {
    "collapsed": false
   },
   "outputs": [
    {
     "data": {
      "text/plain": [
       "'Abkhazia'"
      ]
     },
     "execution_count": 63,
     "metadata": {},
     "output_type": "execute_result"
    }
   ],
   "source": [
    "getPais(0)"
   ]
  },
  {
   "cell_type": "code",
   "execution_count": 71,
   "metadata": {
    "collapsed": false
   },
   "outputs": [
    {
     "data": {
      "text/html": [
       "<div>\n",
       "<table border=\"1\" class=\"dataframe\">\n",
       "  <thead>\n",
       "    <tr style=\"text-align: right;\">\n",
       "      <th></th>\n",
       "      <th>position</th>\n",
       "    </tr>\n",
       "  </thead>\n",
       "  <tbody>\n",
       "    <tr>\n",
       "      <th>0</th>\n",
       "      <td>Nepal</td>\n",
       "    </tr>\n",
       "    <tr>\n",
       "      <th>1</th>\n",
       "      <td>Azerbaijan</td>\n",
       "    </tr>\n",
       "    <tr>\n",
       "      <th>2</th>\n",
       "      <td>United States</td>\n",
       "    </tr>\n",
       "    <tr>\n",
       "      <th>3</th>\n",
       "      <td>Laos</td>\n",
       "    </tr>\n",
       "    <tr>\n",
       "      <th>4</th>\n",
       "      <td>Ascension Island</td>\n",
       "    </tr>\n",
       "    <tr>\n",
       "      <th>5</th>\n",
       "      <td>Armenia</td>\n",
       "    </tr>\n",
       "    <tr>\n",
       "      <th>6</th>\n",
       "      <td>Antigua and Barbuda</td>\n",
       "    </tr>\n",
       "    <tr>\n",
       "      <th>7</th>\n",
       "      <td>Armenia</td>\n",
       "    </tr>\n",
       "    <tr>\n",
       "      <th>8</th>\n",
       "      <td>Seychelles</td>\n",
       "    </tr>\n",
       "    <tr>\n",
       "      <th>9</th>\n",
       "      <td>Pitcaim Islands</td>\n",
       "    </tr>\n",
       "  </tbody>\n",
       "</table>\n",
       "</div>"
      ],
      "text/plain": [
       "              position\n",
       "0                Nepal\n",
       "1           Azerbaijan\n",
       "2        United States\n",
       "3                 Laos\n",
       "4     Ascension Island\n",
       "5              Armenia\n",
       "6  Antigua and Barbuda\n",
       "7              Armenia\n",
       "8           Seychelles\n",
       "9      Pitcaim Islands"
      ]
     },
     "execution_count": 71,
     "metadata": {},
     "output_type": "execute_result"
    }
   ],
   "source": [
    " #Aplicamos la función a una columna.\n",
    "data.applymap(getPais)"
   ]
  },
  {
   "cell_type": "code",
   "execution_count": 74,
   "metadata": {
    "collapsed": false
   },
   "outputs": [
    {
     "data": {
      "text/html": [
       "<div>\n",
       "<table border=\"1\" class=\"dataframe\">\n",
       "  <thead>\n",
       "    <tr style=\"text-align: right;\">\n",
       "      <th></th>\n",
       "      <th>position</th>\n",
       "    </tr>\n",
       "  </thead>\n",
       "  <tbody>\n",
       "    <tr>\n",
       "      <th>0</th>\n",
       "      <td>Nepal</td>\n",
       "    </tr>\n",
       "    <tr>\n",
       "      <th>1</th>\n",
       "      <td>Azerbaijan</td>\n",
       "    </tr>\n",
       "    <tr>\n",
       "      <th>2</th>\n",
       "      <td>United States</td>\n",
       "    </tr>\n",
       "    <tr>\n",
       "      <th>3</th>\n",
       "      <td>Laos</td>\n",
       "    </tr>\n",
       "    <tr>\n",
       "      <th>4</th>\n",
       "      <td>Ascension Island</td>\n",
       "    </tr>\n",
       "    <tr>\n",
       "      <th>5</th>\n",
       "      <td>Armenia</td>\n",
       "    </tr>\n",
       "    <tr>\n",
       "      <th>6</th>\n",
       "      <td>Antigua and Barbuda</td>\n",
       "    </tr>\n",
       "    <tr>\n",
       "      <th>7</th>\n",
       "      <td>Armenia</td>\n",
       "    </tr>\n",
       "    <tr>\n",
       "      <th>8</th>\n",
       "      <td>Seychelles</td>\n",
       "    </tr>\n",
       "    <tr>\n",
       "      <th>9</th>\n",
       "      <td>Pitcaim Islands</td>\n",
       "    </tr>\n",
       "  </tbody>\n",
       "</table>\n",
       "</div>"
      ],
      "text/plain": [
       "              position\n",
       "0                Nepal\n",
       "1           Azerbaijan\n",
       "2        United States\n",
       "3                 Laos\n",
       "4     Ascension Island\n",
       "5              Armenia\n",
       "6  Antigua and Barbuda\n",
       "7              Armenia\n",
       "8           Seychelles\n",
       "9      Pitcaim Islands"
      ]
     },
     "execution_count": 74,
     "metadata": {},
     "output_type": "execute_result"
    }
   ],
   "source": [
    "#Tenemos que crear una serie con el mismo índice que la lista de posiciones aleatorias\n",
    "#Vamos a añadir una columna con el índice al que corresponde el país.\n",
    "newdata = data.applymap(getPais)\n",
    "newdata"
   ]
  },
  {
   "cell_type": "code",
   "execution_count": 75,
   "metadata": {
    "collapsed": false
   },
   "outputs": [
    {
     "data": {
      "text/plain": [
       "0                  Nepal\n",
       "1             Azerbaijan\n",
       "2          United States\n",
       "3                   Laos\n",
       "4       Ascension Island\n",
       "5                Armenia\n",
       "6    Antigua and Barbuda\n",
       "7                Armenia\n",
       "8             Seychelles\n",
       "9        Pitcaim Islands\n",
       "Name: position, dtype: object"
      ]
     },
     "execution_count": 75,
     "metadata": {},
     "output_type": "execute_result"
    }
   ],
   "source": [
    "#Extraigo la siere\n",
    "newdata[\"position\"]"
   ]
  },
  {
   "cell_type": "code",
   "execution_count": null,
   "metadata": {
    "collapsed": false
   },
   "outputs": [],
   "source": []
  },
  {
   "cell_type": "code",
   "execution_count": 78,
   "metadata": {
    "collapsed": false
   },
   "outputs": [
    {
     "data": {
      "text/plain": [
       "array([148,  17, 229, 114,  14,  12,  10,  12, 192, 170])"
      ]
     },
     "execution_count": 78,
     "metadata": {},
     "output_type": "execute_result"
    }
   ],
   "source": [
    "#Vamos a crear un dataframe con el país y su posición en el arreglo original:\n",
    "random"
   ]
  },
  {
   "cell_type": "code",
   "execution_count": 79,
   "metadata": {
    "collapsed": true
   },
   "outputs": [],
   "source": [
    "newdata = DataFrame({\"position\":random})"
   ]
  },
  {
   "cell_type": "code",
   "execution_count": 80,
   "metadata": {
    "collapsed": false
   },
   "outputs": [
    {
     "data": {
      "text/html": [
       "<div>\n",
       "<table border=\"1\" class=\"dataframe\">\n",
       "  <thead>\n",
       "    <tr style=\"text-align: right;\">\n",
       "      <th></th>\n",
       "      <th>position</th>\n",
       "    </tr>\n",
       "  </thead>\n",
       "  <tbody>\n",
       "    <tr>\n",
       "      <th>0</th>\n",
       "      <td>148</td>\n",
       "    </tr>\n",
       "    <tr>\n",
       "      <th>1</th>\n",
       "      <td>17</td>\n",
       "    </tr>\n",
       "    <tr>\n",
       "      <th>2</th>\n",
       "      <td>229</td>\n",
       "    </tr>\n",
       "    <tr>\n",
       "      <th>3</th>\n",
       "      <td>114</td>\n",
       "    </tr>\n",
       "    <tr>\n",
       "      <th>4</th>\n",
       "      <td>14</td>\n",
       "    </tr>\n",
       "    <tr>\n",
       "      <th>5</th>\n",
       "      <td>12</td>\n",
       "    </tr>\n",
       "    <tr>\n",
       "      <th>6</th>\n",
       "      <td>10</td>\n",
       "    </tr>\n",
       "    <tr>\n",
       "      <th>7</th>\n",
       "      <td>12</td>\n",
       "    </tr>\n",
       "    <tr>\n",
       "      <th>8</th>\n",
       "      <td>192</td>\n",
       "    </tr>\n",
       "    <tr>\n",
       "      <th>9</th>\n",
       "      <td>170</td>\n",
       "    </tr>\n",
       "  </tbody>\n",
       "</table>\n",
       "</div>"
      ],
      "text/plain": [
       "   position\n",
       "0       148\n",
       "1        17\n",
       "2       229\n",
       "3       114\n",
       "4        14\n",
       "5        12\n",
       "6        10\n",
       "7        12\n",
       "8       192\n",
       "9       170"
      ]
     },
     "execution_count": 80,
     "metadata": {},
     "output_type": "execute_result"
    }
   ],
   "source": [
    "newdata"
   ]
  },
  {
   "cell_type": "code",
   "execution_count": 81,
   "metadata": {
    "collapsed": true
   },
   "outputs": [],
   "source": [
    "newdata[\"pais\"]= newdata.applymap(getPais)"
   ]
  },
  {
   "cell_type": "code",
   "execution_count": 82,
   "metadata": {
    "collapsed": false
   },
   "outputs": [
    {
     "data": {
      "text/html": [
       "<div>\n",
       "<table border=\"1\" class=\"dataframe\">\n",
       "  <thead>\n",
       "    <tr style=\"text-align: right;\">\n",
       "      <th></th>\n",
       "      <th>position</th>\n",
       "      <th>pais</th>\n",
       "    </tr>\n",
       "  </thead>\n",
       "  <tbody>\n",
       "    <tr>\n",
       "      <th>0</th>\n",
       "      <td>148</td>\n",
       "      <td>Nepal</td>\n",
       "    </tr>\n",
       "    <tr>\n",
       "      <th>1</th>\n",
       "      <td>17</td>\n",
       "      <td>Azerbaijan</td>\n",
       "    </tr>\n",
       "    <tr>\n",
       "      <th>2</th>\n",
       "      <td>229</td>\n",
       "      <td>United States</td>\n",
       "    </tr>\n",
       "    <tr>\n",
       "      <th>3</th>\n",
       "      <td>114</td>\n",
       "      <td>Laos</td>\n",
       "    </tr>\n",
       "    <tr>\n",
       "      <th>4</th>\n",
       "      <td>14</td>\n",
       "      <td>Ascension Island</td>\n",
       "    </tr>\n",
       "    <tr>\n",
       "      <th>5</th>\n",
       "      <td>12</td>\n",
       "      <td>Armenia</td>\n",
       "    </tr>\n",
       "    <tr>\n",
       "      <th>6</th>\n",
       "      <td>10</td>\n",
       "      <td>Antigua and Barbuda</td>\n",
       "    </tr>\n",
       "    <tr>\n",
       "      <th>7</th>\n",
       "      <td>12</td>\n",
       "      <td>Armenia</td>\n",
       "    </tr>\n",
       "    <tr>\n",
       "      <th>8</th>\n",
       "      <td>192</td>\n",
       "      <td>Seychelles</td>\n",
       "    </tr>\n",
       "    <tr>\n",
       "      <th>9</th>\n",
       "      <td>170</td>\n",
       "      <td>Pitcaim Islands</td>\n",
       "    </tr>\n",
       "  </tbody>\n",
       "</table>\n",
       "</div>"
      ],
      "text/plain": [
       "   position                 pais\n",
       "0       148                Nepal\n",
       "1        17           Azerbaijan\n",
       "2       229        United States\n",
       "3       114                 Laos\n",
       "4        14     Ascension Island\n",
       "5        12              Armenia\n",
       "6        10  Antigua and Barbuda\n",
       "7        12              Armenia\n",
       "8       192           Seychelles\n",
       "9       170      Pitcaim Islands"
      ]
     },
     "execution_count": 82,
     "metadata": {},
     "output_type": "execute_result"
    }
   ],
   "source": [
    "newdata"
   ]
  },
  {
   "cell_type": "code",
   "execution_count": 98,
   "metadata": {
    "collapsed": false
   },
   "outputs": [
    {
     "data": {
      "text/plain": [
       "[<matplotlib.lines.Line2D at 0x7f9074029f10>]"
      ]
     },
     "execution_count": 98,
     "metadata": {},
     "output_type": "execute_result"
    },
    {
     "data": {
      "image/png": "[encoded data removed]",
      "text/plain": [
       "<matplotlib.figure.Figure at 0x7f9074029210>"
      ]
     },
     "metadata": {},
     "output_type": "display_data"
    }
   ],
   "source": [
    "#Gráficas con matplotlib\n",
    "#creo dos listas\n",
    "#Indicamos al notebook que las gráficas tienen que estar dentro del notebook\n",
    "%matplotlib inline\n",
    "\n",
    "x=[1,4,6]\n",
    "y=[3,6,7]\n",
    "plt.plot(x,y,label=\"l1\")\n",
    "\n",
    "y2=[1,2,3,4]\n",
    "x2=[4,3,2,1]\n",
    "plt.plot(x2,y2,label=\"l2\")"
   ]
  },
  {
   "cell_type": "code",
   "execution_count": 104,
   "metadata": {
    "collapsed": false
   },
   "outputs": [
    {
     "data": {
      "text/plain": [
       "<matplotlib.legend.Legend at 0x7f9073396c10>"
      ]
     },
     "execution_count": 104,
     "metadata": {},
     "output_type": "execute_result"
    },
    {
     "data": {
      "image/png": "[encoded data removed]",
      "text/plain": [
       "<matplotlib.figure.Figure at 0x7f90734d21d0>"
      ]
     },
     "metadata": {},
     "output_type": "display_data"
    }
   ],
   "source": [
    "#Opciones para las gráficas\n",
    "plt.xlabel(\"Indice\")\n",
    "plt.ylabel(\"Valores\")\n",
    "plt.title(\"Titulo de la grafica\")\n",
    "plt.plot(x,y,label=\"l1\")\n",
    "plt.plot(x2,y2,label=\"l2\")\n",
    "plt.legend(loc=\"best\",frameon=False)"
   ]
  },
  {
   "cell_type": "code",
   "execution_count": 111,
   "metadata": {
    "collapsed": false
   },
   "outputs": [
    {
     "data": {
      "text/plain": [
       "<matplotlib.legend.Legend at 0x7f9072eadc10>"
      ]
     },
     "execution_count": 111,
     "metadata": {},
     "output_type": "execute_result"
    },
    {
     "data": {
      "image/png": "[encoded data removed]",
      "text/plain": [
       "<matplotlib.figure.Figure at 0x7f9072ff9750>"
      ]
     },
     "metadata": {},
     "output_type": "display_data"
    }
   ],
   "source": [
    "#Usamos puntos en vez de líenas para trazar la gráfica.\n",
    "#Opciones para las gráficas  --> plt.plot(x,y,\"r--\",label=\"l1\")\n",
    "plt.xlabel(\"Indice\")\n",
    "plt.ylabel(\"Valores\")\n",
    "plt.title(\"Titulo de la grafica\")\n",
    "\n",
    "plt.plot(x,y,\"r--\",label=\"l1\")\n",
    "plt.plot(x2,y2,label=\"l2\")\n",
    "\n",
    "plt.legend(loc=\"best\",frameon=False)"
   ]
  },
  {
   "cell_type": "code",
   "execution_count": 112,
   "metadata": {
    "collapsed": false
   },
   "outputs": [
    {
     "data": {
      "text/plain": [
       "([<matplotlib.patches.Wedge at 0x7f9072ded7d0>,\n",
       "  <matplotlib.patches.Wedge at 0x7f9072dfa1d0>,\n",
       "  <matplotlib.patches.Wedge at 0x7f9072dfab50>,\n",
       "  <matplotlib.patches.Wedge at 0x7f9072e08510>],\n",
       " [<matplotlib.text.Text at 0x7f9072dedd90>,\n",
       "  <matplotlib.text.Text at 0x7f9072dfa790>,\n",
       "  <matplotlib.text.Text at 0x7f9072e08150>,\n",
       "  <matplotlib.text.Text at 0x7f9072e08ad0>])"
      ]
     },
     "execution_count": 112,
     "metadata": {},
     "output_type": "execute_result"
    },
    {
     "data": {
      "image/png": "[encoded data removed]",
      "text/plain": [
       "<matplotlib.figure.Figure at 0x7f907306a6d0>"
      ]
     },
     "metadata": {},
     "output_type": "display_data"
    }
   ],
   "source": [
    "# Gráfica de tarta\n",
    "labels = [\"fld1\",\"fld2\",\"fld3\",\"fld4\"]\n",
    "values = [3,14,15,7]\n",
    "plt.pie(values,labels=labels)"
   ]
  },
  {
   "cell_type": "code",
   "execution_count": 117,
   "metadata": {
    "collapsed": false
   },
   "outputs": [
    {
     "data": {
      "text/plain": [
       "<Container object of 4 artists>"
      ]
     },
     "execution_count": 117,
     "metadata": {},
     "output_type": "execute_result"
    },
    {
     "data": {
      "image/png": "[encoded data removed]",
      "text/plain": [
       "<matplotlib.figure.Figure at 0x7f9072d2cf10>"
      ]
     },
     "metadata": {},
     "output_type": "display_data"
    }
   ],
   "source": [
    "#Gráfica de barras\n",
    "plt.bar(range(len(values)),values)\n",
    "plt.bar([0,1,2,3],values)\n"
   ]
  },
  {
   "cell_type": "code",
   "execution_count": 120,
   "metadata": {
    "collapsed": false
   },
   "outputs": [],
   "source": [
    "x=[1,2,3,4]\n",
    "seriex = Series(x)"
   ]
  },
  {
   "cell_type": "code",
   "execution_count": 121,
   "metadata": {
    "collapsed": true
   },
   "outputs": [],
   "source": [
    "y=[2,4,3,1]\n",
    "seriey= Series(y)"
   ]
  },
  {
   "cell_type": "code",
   "execution_count": 122,
   "metadata": {
    "collapsed": false
   },
   "outputs": [
    {
     "data": {
      "text/plain": [
       "[<matplotlib.lines.Line2D at 0x7f90730aaed0>]"
      ]
     },
     "execution_count": 122,
     "metadata": {},
     "output_type": "execute_result"
    },
    {
     "data": {
      "image/png": "[encoded data removed]",
      "text/plain": [
       "<matplotlib.figure.Figure at 0x7f9072d2a450>"
      ]
     },
     "metadata": {},
     "output_type": "display_data"
    }
   ],
   "source": [
    "plt.plot(seriex,seriey)"
   ]
  },
  {
   "cell_type": "code",
   "execution_count": 125,
   "metadata": {
    "collapsed": false
   },
   "outputs": [
    {
     "data": {
      "text/plain": [
       "[<matplotlib.lines.Line2D at 0x7f907303fad0>]"
      ]
     },
     "execution_count": 125,
     "metadata": {},
     "output_type": "execute_result"
    },
    {
     "data": {
      "image/png": "[encoded data removed]",
      "text/plain": [
       "<matplotlib.figure.Figure at 0x7f907317c1d0>"
      ]
     },
     "metadata": {},
     "output_type": "display_data"
    }
   ],
   "source": [
    "data = DataFrame({\"posicion\":x,\"valor\":y})\n",
    "plt.plot(data[\"posicion\"],data[\"valor\"])"
   ]
  },
  {
   "cell_type": "code",
   "execution_count": 124,
   "metadata": {
    "collapsed": false
   },
   "outputs": [
    {
     "data": {
      "text/html": [
       "<div>\n",
       "<table border=\"1\" class=\"dataframe\">\n",
       "  <thead>\n",
       "    <tr style=\"text-align: right;\">\n",
       "      <th></th>\n",
       "      <th>posicion</th>\n",
       "      <th>valor</th>\n",
       "    </tr>\n",
       "  </thead>\n",
       "  <tbody>\n",
       "    <tr>\n",
       "      <th>0</th>\n",
       "      <td>1</td>\n",
       "      <td>2</td>\n",
       "    </tr>\n",
       "    <tr>\n",
       "      <th>1</th>\n",
       "      <td>2</td>\n",
       "      <td>4</td>\n",
       "    </tr>\n",
       "    <tr>\n",
       "      <th>2</th>\n",
       "      <td>3</td>\n",
       "      <td>3</td>\n",
       "    </tr>\n",
       "    <tr>\n",
       "      <th>3</th>\n",
       "      <td>4</td>\n",
       "      <td>1</td>\n",
       "    </tr>\n",
       "  </tbody>\n",
       "</table>\n",
       "</div>"
      ],
      "text/plain": [
       "   posicion  valor\n",
       "0         1      2\n",
       "1         2      4\n",
       "2         3      3\n",
       "3         4      1"
      ]
     },
     "execution_count": 124,
     "metadata": {},
     "output_type": "execute_result"
    }
   ],
   "source": []
  },
  {
   "cell_type": "code",
   "execution_count": null,
   "metadata": {
    "collapsed": true
   },
   "outputs": [],
   "source": []
  }
 ],
 "metadata": {
  "kernelspec": {
   "display_name": "Python 2",
   "language": "python",
   "name": "python2"
  },
  "language_info": {
   "codemirror_mode": {
    "name": "ipython",
    "version": 2
   },
   "file_extension": ".py",
   "mimetype": "text/x-python",
   "name": "python",
   "nbconvert_exporter": "python",
   "pygments_lexer": "ipython2",
   "version": "2.7.10"
  }
 },
 "nbformat": 4,
 "nbformat_minor": 0
}
