{
 "cells": [
  {
   "cell_type": "code",
   "execution_count": 2,
   "metadata": {
    "collapsed": false
   },
   "outputs": [],
   "source": [
    "import numpy as np\n",
    "import pandas as pd\n",
    "import matplotlib.pyplot as plt\n",
    "from pandas import DataFrame, Series"
   ]
  },
  {
   "cell_type": "code",
   "execution_count": 3,
   "metadata": {
    "collapsed": true
   },
   "outputs": [],
   "source": [
    "%matplotlib inline"
   ]
  },
  {
   "cell_type": "code",
   "execution_count": 6,
   "metadata": {
    "collapsed": false
   },
   "outputs": [
    {
     "name": "stdout",
     "output_type": "stream",
     "text": [
      " El volumen de la unidad H no tiene etiqueta.\n",
      " El n£mero de serie del volumen es: 9016-4EF8\n",
      "\n",
      " Directorio de H:\\data\\us_dot\\otp\n",
      "\n",
      "19/12/2015  08:52    <DIR>          .\n",
      "19/12/2015  08:52    <DIR>          ..\n",
      "08/11/2015  14:01        23.061.340 On_Time_On_Time_Performance_2015_1.zip\n",
      "08/11/2015  14:02        21.230.105 On_Time_On_Time_Performance_2015_2.zip\n",
      "08/11/2015  14:02        24.811.186 On_Time_On_Time_Performance_2015_3.zip\n",
      "08/11/2015  14:02        23.625.261 On_Time_On_Time_Performance_2015_4.zip\n",
      "08/11/2015  14:03        24.334.057 On_Time_On_Time_Performance_2015_5.zip\n",
      "08/11/2015  14:01        25.758.350 On_Time_On_Time_Performance_2015_6.zip\n",
      "08/11/2015  14:01        26.204.213 On_Time_On_Time_Performance_2015_7.zip\n",
      "08/11/2015  14:01        25.726.054 On_Time_On_Time_Performance_2015_8.zip\n",
      "               8 archivos    194.750.566 bytes\n",
      "               2 dirs  11.486.461.952 bytes libres\n"
     ]
    }
   ],
   "source": [
    "! Dir H:\\data\\us_dot\\otp"
   ]
  },
  {
   "cell_type": "code",
   "execution_count": 12,
   "metadata": {
    "collapsed": false
   },
   "outputs": [
    {
     "name": "stderr",
     "output_type": "stream",
     "text": [
      "C:\\Anaconda2\\lib\\site-packages\\IPython\\core\\interactiveshell.py:2902: DtypeWarning: Columns (77,84,85) have mixed types. Specify dtype option on import or set low_memory=False.\n",
      "  interactivity=interactivity, compiler=compiler, result=result)\n"
     ]
    }
   ],
   "source": [
    "df = pd.read_csv(\"H:\\data\\us_dot\\otp\\On_Time_On_Time_Performance_2015_1.csv\")"
   ]
  },
  {
   "cell_type": "code",
   "execution_count": 28,
   "metadata": {
    "collapsed": false
   },
   "outputs": [
    {
     "data": {
      "text/plain": [
       "True"
      ]
     },
     "execution_count": 28,
     "metadata": {},
     "output_type": "execute_result"
    }
   ],
   "source": [
    "n = len(df)\n",
    "n2 = n/2\n",
    "df1 = df[0:n2]\n",
    "df2 = df[n2:n]\n",
    "len(df1)+len(df2) == len(df)"
   ]
  },
  {
   "cell_type": "code",
   "execution_count": 34,
   "metadata": {
    "collapsed": false
   },
   "outputs": [],
   "source": [
    "frames = [df1,df2]\n",
    "result = pd.concat(frames,keys=['a','b']).sample(100)"
   ]
  },
  {
   "cell_type": "code",
   "execution_count": 41,
   "metadata": {
    "collapsed": false
   },
   "outputs": [
    {
     "data": {
      "text/plain": [
       "57959     B6\n",
       "197738    WN\n",
       "1122      AA\n",
       "229124    WN\n",
       "223936    WN\n",
       "152246    WN\n",
       "7427      AA\n",
       "41928     AS\n",
       "150388    WN\n",
       "114547    DL\n",
       "4918      AA\n",
       "172007    WN\n",
       "32194     AA\n",
       "32996     AA\n",
       "84322     DL\n",
       "50425     AS\n",
       "149436    WN\n",
       "209215    WN\n",
       "7844      AA\n",
       "219332    WN\n",
       "212009    WN\n",
       "1195      AA\n",
       "194249    WN\n",
       "72485     B6\n",
       "179730    WN\n",
       "113132    DL\n",
       "209247    WN\n",
       "79094     DL\n",
       "194617    WN\n",
       "26178     AA\n",
       "165765    WN\n",
       "73141     DL\n",
       "123319    US\n",
       "166746    WN\n",
       "9886      AA\n",
       "120779    US\n",
       "6284      AA\n",
       "119413    US\n",
       "27927     AA\n",
       "37278     AA\n",
       "24427     AA\n",
       "189667    WN\n",
       "90780     DL\n",
       "71186     B6\n",
       "6300      AA\n",
       "40698     AS\n",
       "Name: UniqueCarrier, dtype: object"
      ]
     },
     "execution_count": 41,
     "metadata": {},
     "output_type": "execute_result"
    }
   ],
   "source": [
    "result.ix['a']['UniqueCarrier']"
   ]
  },
  {
   "cell_type": "code",
   "execution_count": null,
   "metadata": {
    "collapsed": true
   },
   "outputs": [],
   "source": []
  }
 ],
 "metadata": {
  "kernelspec": {
   "display_name": "Python 2",
   "language": "python",
   "name": "python2"
  },
  "language_info": {
   "codemirror_mode": {
    "name": "ipython",
    "version": 2
   },
   "file_extension": ".py",
   "mimetype": "text/x-python",
   "name": "python",
   "nbconvert_exporter": "python",
   "pygments_lexer": "ipython2",
   "version": "2.7.10"
  }
 },
 "nbformat": 4,
 "nbformat_minor": 0
}
