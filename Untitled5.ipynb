{
 "cells": [
  {
   "cell_type": "raw",
   "metadata": {},
   "source": [
    "Pg 24"
   ]
  },
  {
   "cell_type": "code",
   "execution_count": 1,
   "metadata": {
    "collapsed": true
   },
   "outputs": [],
   "source": [
    "from sklearn import datasets\n",
    "iris = datasets.load_iris()"
   ]
  },
  {
   "cell_type": "code",
   "execution_count": 2,
   "metadata": {
    "collapsed": true
   },
   "outputs": [],
   "source": [
    "import pandas as pd\n",
    "import numpy as np\n",
    "colors=list()\n",
    "palette={0:\"red\",1:\"green\",2:\"blue\"}"
   ]
  },
  {
   "cell_type": "code",
   "execution_count": 3,
   "metadata": {
    "collapsed": false
   },
   "outputs": [],
   "source": [
    "for c in np.nditer(iris.target): colors.append(palette[int(c)])\n",
    "# using the palette dictionary, we convert\n",
    "# each numeric class into a color string"
   ]
  },
  {
   "cell_type": "code",
   "execution_count": 4,
   "metadata": {
    "collapsed": true
   },
   "outputs": [],
   "source": [
    "dataframe = pd.DataFrame(iris.data,columns=iris.feature_names)\n",
    "\n",
    "scatterplot = pd.scatter_matrix(\n",
    "    dataframe, alpha=0.3,figsize=(10, 10), diagonal='hist', color=colors, marker='o',grid=True\n",
    "    )"
   ]
  },
  {
   "cell_type": "code",
   "execution_count": 9,
   "metadata": {
    "collapsed": false
   },
   "outputs": [
    {
     "data": {
      "text/plain": [
       "array([[<matplotlib.axes._subplots.AxesSubplot object at 0x7f0e06e2c1d0>,\n",
       "        <matplotlib.axes._subplots.AxesSubplot object at 0x7f0e05c5fd90>,\n",
       "        <matplotlib.axes._subplots.AxesSubplot object at 0x7f0e05be4ed0>,\n",
       "        <matplotlib.axes._subplots.AxesSubplot object at 0x7f0e05c1bc10>],\n",
       "       [<matplotlib.axes._subplots.AxesSubplot object at 0x7f0e05ad7810>,\n",
       "        <matplotlib.axes._subplots.AxesSubplot object at 0x7f0e05a5aa50>,\n",
       "        <matplotlib.axes._subplots.AxesSubplot object at 0x7f0e05a33450>,\n",
       "        <matplotlib.axes._subplots.AxesSubplot object at 0x7f0e059b8250>],\n",
       "       [<matplotlib.axes._subplots.AxesSubplot object at 0x7f0e059d7e10>,\n",
       "        <matplotlib.axes._subplots.AxesSubplot object at 0x7f0e0589fd50>,\n",
       "        <matplotlib.axes._subplots.AxesSubplot object at 0x7f0e05822990>,\n",
       "        <matplotlib.axes._subplots.AxesSubplot object at 0x7f0e057950d0>],\n",
       "       [<matplotlib.axes._subplots.AxesSubplot object at 0x7f0e0578cdd0>,\n",
       "        <matplotlib.axes._subplots.AxesSubplot object at 0x7f0e056e5950>,\n",
       "        <matplotlib.axes._subplots.AxesSubplot object at 0x7f0e05673990>,\n",
       "        <matplotlib.axes._subplots.AxesSubplot object at 0x7f0e055f95d0>]], dtype=object)"
      ]
     },
     "execution_count": 9,
     "metadata": {},
     "output_type": "execute_result"
    }
   ],
   "source": [
    "scatterplot.view()\n"
   ]
  }
 ],
 "metadata": {
  "kernelspec": {
   "display_name": "Python 2",
   "language": "python",
   "name": "python2"
  },
  "language_info": {
   "codemirror_mode": {
    "name": "ipython",
    "version": 2
   },
   "file_extension": ".py",
   "mimetype": "text/x-python",
   "name": "python",
   "nbconvert_exporter": "python",
   "pygments_lexer": "ipython2",
   "version": "2.7.10"
  }
 },
 "nbformat": 4,
 "nbformat_minor": 0
}
