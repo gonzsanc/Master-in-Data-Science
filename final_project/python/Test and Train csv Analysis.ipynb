{
 "cells": [
  {
   "cell_type": "code",
   "execution_count": 1,
   "metadata": {
    "collapsed": true
   },
   "outputs": [],
   "source": [
    "import numpy as np\n",
    "import pandas as pd\n",
    "import matplotlib.pyplot as plt\n",
    "import datetime\n",
    "\n",
    "from pandas import DataFrame, Series\n",
    "%matplotlib inline"
   ]
  },
  {
   "cell_type": "code",
   "execution_count": 2,
   "metadata": {
    "collapsed": false
   },
   "outputs": [
    {
     "name": "stdout",
     "output_type": "stream",
     "text": [
      "Instructions.odt  sample_submission.csv  store.csv  test.csv  train.csv\r\n"
     ]
    }
   ],
   "source": [
    "! ls ../work_data/"
   ]
  },
  {
   "cell_type": "code",
   "execution_count": 3,
   "metadata": {
    "collapsed": false
   },
   "outputs": [
    {
     "name": "stdout",
     "output_type": "stream",
     "text": [
      "\"Id\",\"Store\",\"DayOfWeek\",\"Date\",\"Open\",\"Promo\",\"StateHoliday\",\"SchoolHoliday\"\r\n",
      "1,1,4,2015-09-17,1,1,\"0\",\"0\"\r\n",
      "2,3,4,2015-09-17,1,1,\"0\",\"0\"\r\n",
      "3,7,4,2015-09-17,1,1,\"0\",\"0\"\r\n",
      "4,8,4,2015-09-17,1,1,\"0\",\"0\"\r\n",
      "cat: write error: Broken pipe\r\n"
     ]
    }
   ],
   "source": [
    "testcsvPath = '../work_data/test.csv'\n",
    "!cat {testcsvPath} | head -n 5"
   ]
  },
  {
   "cell_type": "code",
   "execution_count": 4,
   "metadata": {
    "collapsed": false
   },
   "outputs": [
    {
     "name": "stdout",
     "output_type": "stream",
     "text": [
      "  1. Id\n",
      "\t<type 'int'>\n",
      "\tNulls: False\n",
      "\tMin: 1\n",
      "\tMax: 41088\n",
      "\tSum: 844132416\n",
      "\tMean: 20544.5\n",
      "\tMedian: 20544.5\n",
      "\tStandard Deviation: 11861.0839267\n",
      "\tUnique values: 41088\n",
      "  2. Store\n",
      "\t<type 'int'>\n",
      "\tNulls: False\n",
      "\tMin: 1\n",
      "\tMax: 1115\n",
      "\tSum: 22840800\n",
      "\tMean: 555.89953271\n",
      "\tMedian: 553.5\n",
      "\tStandard Deviation: 320.270598497\n",
      "\tUnique values: 856\n",
      "\t5 most frequent values:\n",
      "\t\t344:\t48\n",
      "\t\t345:\t48\n",
      "\t\t346:\t48\n",
      "\t\t347:\t48\n",
      "\t\t340:\t48\n",
      "  3. DayOfWeek\n",
      "\t<type 'int'>\n",
      "\tNulls: False\n",
      "\tMin: 1\n",
      "\tMax: 7\n",
      "\tSum: 163496\n",
      "\tMean: 3.97916666667\n",
      "\tMedian: 4.0\n",
      "\tStandard Deviation: 2.01545676516\n",
      "\tUnique values: 7\n",
      "\t5 most frequent values:\n",
      "\t\t1:\t5992\n",
      "\t\t3:\t5992\n",
      "\t\t2:\t5992\n",
      "\t\t4:\t5992\n",
      "\t\t7:\t5992\n",
      "  4. Date\n",
      "\t<type 'datetime.date'>\n",
      "\tNulls: False\n",
      "\tMin: 2015-08-01\n",
      "\tMax: 2015-09-17\n",
      "\tUnique values: 48\n",
      "\t5 most frequent values:\n",
      "\t\t2015-08-31:\t856\n",
      "\t\t2015-08-28:\t856\n",
      "\t\t2015-08-29:\t856\n",
      "\t\t2015-08-08:\t856\n",
      "\t\t2015-08-09:\t856\n",
      "  5. Open\n",
      "\t<type 'int'>\n",
      "\tNulls: True\n",
      "\tValues: 0, 1\n",
      "  6. Promo\n",
      "\t<type 'int'>\n",
      "\tNulls: False\n",
      "\tValues: 0, 1\n",
      "  7. StateHoliday\n",
      "\t<type 'unicode'>\n",
      "\tNulls: False\n",
      "\tValues: a, 0\n",
      "  8. SchoolHoliday\n",
      "\t<type 'int'>\n",
      "\tNulls: False\n",
      "\tValues: 0, 1\n",
      "\n",
      "Row count: 41088\n"
     ]
    }
   ],
   "source": [
    "! csvstat {testcsvPath}"
   ]
  },
  {
   "cell_type": "markdown",
   "metadata": {},
   "source": [
    "# Files\n",
    "<p>\n",
    "train.csv - historical data including Sales<br/>\n",
    "test.csv - historical data excluding Sales<br/>\n",
    "sample_submission.csv - a sample submission file in the correct format<br/>\n",
    "store.csv - supplemental information about the stores<br/>\n",
    "</p>\n",
    "#Data fields\n",
    "\n",
    "<p>Most of the fields are self-explanatory. The following are descriptions for those that aren't.<br/>\n",
    "Id - an Id that represents a (Store, Date) duple within the test set<br/>\n",
    "Store - a unique Id for each store<br/>\n",
    "Sales - the turnover for any given day (this is what you are predicting)<br/>\n",
    "Customers - the number of customers on a given day<br/>\n",
    "Open - an indicator for whether the store was open: 0 = closed, 1 = open<br/>\n",
    "StateHoliday - indicates a state holiday. Normally all stores, with few exceptions, are closed on state holidays. Note that all schools are closed on public holidays and weekends. a = public holiday, b = Easter holiday, c = Christmas, 0 = None<br/>\n",
    "SchoolHoliday - indicates if the (Store, Date) was affected by the closure of public schools<br/>\n",
    "StoreType - differentiates between 4 different store models: a, b, c, d<br/>\n",
    "Assortment - describes an assortment level: a = basic, b = extra, c = extended<br/>\n",
    "CompetitionDistance - distance in meters to the nearest competitor store<br/>\n",
    "CompetitionOpenSince[Month/Year] - gives the approximate year and month of the time the nearest competitor was opened<br/>\n",
    "Promo - indicates whether a store is running a promo on that day<br/>\n",
    "Promo2 - Promo2 is a continuing and consecutive promotion for some stores: 0 = store is not participating, 1 = store is participating<br/>\n",
    "Promo2Since[Year/Week] - describes the year and calendar week when the store started participating in Promo2<br/>\n",
    "PromoInterval - describes the consecutive intervals Promo2 is started, naming the months the promotion is started anew.<br/> E.g. \"Feb,May,Aug,Nov\" means each round starts in February, May, August, November of any given year for that store\n",
    "</p>"
   ]
  },
  {
   "cell_type": "code",
   "execution_count": 5,
   "metadata": {
    "collapsed": false
   },
   "outputs": [
    {
     "name": "stdout",
     "output_type": "stream",
     "text": [
      "../work_data/train.csv\r\n"
     ]
    }
   ],
   "source": [
    "!ls ../work_data/train.csv"
   ]
  },
  {
   "cell_type": "code",
   "execution_count": 6,
   "metadata": {
    "collapsed": true
   },
   "outputs": [],
   "source": [
    "trainPath = \"../work_data/train.csv\""
   ]
  },
  {
   "cell_type": "code",
   "execution_count": 7,
   "metadata": {
    "collapsed": false
   },
   "outputs": [
    {
     "name": "stdout",
     "output_type": "stream",
     "text": [
      "\"Store\",\"DayOfWeek\",\"Date\",\"Sales\",\"Customers\",\"Open\",\"Promo\",\"StateHoliday\",\"SchoolHoliday\"\r\n",
      "1,5,2015-07-31,5263,555,1,1,\"0\",\"1\"\r\n",
      "2,5,2015-07-31,6064,625,1,1,\"0\",\"1\"\r\n",
      "3,5,2015-07-31,8314,821,1,1,\"0\",\"1\"\r\n",
      "4,5,2015-07-31,13995,1498,1,1,\"0\",\"1\"\r\n",
      "cat: write error: Broken pipe\r\n"
     ]
    }
   ],
   "source": [
    "! cat {trainPath}|head -n 5"
   ]
  },
  {
   "cell_type": "code",
   "execution_count": 8,
   "metadata": {
    "collapsed": false
   },
   "outputs": [
    {
     "name": "stderr",
     "output_type": "stream",
     "text": [
      "/usr/lib64/python2.7/site-packages/pandas/io/parsers.py:1170: DtypeWarning: Columns (7) have mixed types. Specify dtype option on import or set low_memory=False.\n",
      "  data = self._reader.read(nrows)\n"
     ]
    }
   ],
   "source": [
    "dfTraincsv = pd.read_csv(trainPath)"
   ]
  },
  {
   "cell_type": "code",
   "execution_count": 9,
   "metadata": {
    "collapsed": false
   },
   "outputs": [
    {
     "data": {
      "text/html": [
       "<div>\n",
       "<table border=\"1\" class=\"dataframe\">\n",
       "  <thead>\n",
       "    <tr style=\"text-align: right;\">\n",
       "      <th></th>\n",
       "      <th>Store</th>\n",
       "      <th>DayOfWeek</th>\n",
       "      <th>Sales</th>\n",
       "      <th>Customers</th>\n",
       "      <th>Open</th>\n",
       "      <th>Promo</th>\n",
       "      <th>SchoolHoliday</th>\n",
       "    </tr>\n",
       "  </thead>\n",
       "  <tbody>\n",
       "    <tr>\n",
       "      <th>count</th>\n",
       "      <td>1017209.000000</td>\n",
       "      <td>1017209.000000</td>\n",
       "      <td>1017209.000000</td>\n",
       "      <td>1017209.000000</td>\n",
       "      <td>1017209.000000</td>\n",
       "      <td>1017209.000000</td>\n",
       "      <td>1017209.000000</td>\n",
       "    </tr>\n",
       "    <tr>\n",
       "      <th>mean</th>\n",
       "      <td>558.429727</td>\n",
       "      <td>3.998341</td>\n",
       "      <td>5773.818972</td>\n",
       "      <td>633.145946</td>\n",
       "      <td>0.830107</td>\n",
       "      <td>0.381515</td>\n",
       "      <td>0.178647</td>\n",
       "    </tr>\n",
       "    <tr>\n",
       "      <th>std</th>\n",
       "      <td>321.908651</td>\n",
       "      <td>1.997391</td>\n",
       "      <td>3849.926175</td>\n",
       "      <td>464.411734</td>\n",
       "      <td>0.375539</td>\n",
       "      <td>0.485759</td>\n",
       "      <td>0.383056</td>\n",
       "    </tr>\n",
       "    <tr>\n",
       "      <th>min</th>\n",
       "      <td>1.000000</td>\n",
       "      <td>1.000000</td>\n",
       "      <td>0.000000</td>\n",
       "      <td>0.000000</td>\n",
       "      <td>0.000000</td>\n",
       "      <td>0.000000</td>\n",
       "      <td>0.000000</td>\n",
       "    </tr>\n",
       "    <tr>\n",
       "      <th>25%</th>\n",
       "      <td>280.000000</td>\n",
       "      <td>2.000000</td>\n",
       "      <td>3727.000000</td>\n",
       "      <td>405.000000</td>\n",
       "      <td>1.000000</td>\n",
       "      <td>0.000000</td>\n",
       "      <td>0.000000</td>\n",
       "    </tr>\n",
       "    <tr>\n",
       "      <th>50%</th>\n",
       "      <td>558.000000</td>\n",
       "      <td>4.000000</td>\n",
       "      <td>5744.000000</td>\n",
       "      <td>609.000000</td>\n",
       "      <td>1.000000</td>\n",
       "      <td>0.000000</td>\n",
       "      <td>0.000000</td>\n",
       "    </tr>\n",
       "    <tr>\n",
       "      <th>75%</th>\n",
       "      <td>838.000000</td>\n",
       "      <td>6.000000</td>\n",
       "      <td>7856.000000</td>\n",
       "      <td>837.000000</td>\n",
       "      <td>1.000000</td>\n",
       "      <td>1.000000</td>\n",
       "      <td>0.000000</td>\n",
       "    </tr>\n",
       "    <tr>\n",
       "      <th>max</th>\n",
       "      <td>1115.000000</td>\n",
       "      <td>7.000000</td>\n",
       "      <td>41551.000000</td>\n",
       "      <td>7388.000000</td>\n",
       "      <td>1.000000</td>\n",
       "      <td>1.000000</td>\n",
       "      <td>1.000000</td>\n",
       "    </tr>\n",
       "  </tbody>\n",
       "</table>\n",
       "</div>"
      ],
      "text/plain": [
       "                Store       DayOfWeek           Sales       Customers  \\\n",
       "count  1017209.000000  1017209.000000  1017209.000000  1017209.000000   \n",
       "mean       558.429727        3.998341     5773.818972      633.145946   \n",
       "std        321.908651        1.997391     3849.926175      464.411734   \n",
       "min          1.000000        1.000000        0.000000        0.000000   \n",
       "25%        280.000000        2.000000     3727.000000      405.000000   \n",
       "50%        558.000000        4.000000     5744.000000      609.000000   \n",
       "75%        838.000000        6.000000     7856.000000      837.000000   \n",
       "max       1115.000000        7.000000    41551.000000     7388.000000   \n",
       "\n",
       "                 Open           Promo   SchoolHoliday  \n",
       "count  1017209.000000  1017209.000000  1017209.000000  \n",
       "mean         0.830107        0.381515        0.178647  \n",
       "std          0.375539        0.485759        0.383056  \n",
       "min          0.000000        0.000000        0.000000  \n",
       "25%          1.000000        0.000000        0.000000  \n",
       "50%          1.000000        0.000000        0.000000  \n",
       "75%          1.000000        1.000000        0.000000  \n",
       "max          1.000000        1.000000        1.000000  "
      ]
     },
     "execution_count": 9,
     "metadata": {},
     "output_type": "execute_result"
    }
   ],
   "source": [
    "dfTraincsv.describe()"
   ]
  },
  {
   "cell_type": "code",
   "execution_count": 10,
   "metadata": {
    "collapsed": false
   },
   "outputs": [
    {
     "data": {
      "text/html": [
       "<div>\n",
       "<table border=\"1\" class=\"dataframe\">\n",
       "  <thead>\n",
       "    <tr style=\"text-align: right;\">\n",
       "      <th></th>\n",
       "      <th>Store</th>\n",
       "      <th>DayOfWeek</th>\n",
       "      <th>Sales</th>\n",
       "      <th>Customers</th>\n",
       "      <th>Open</th>\n",
       "      <th>Promo</th>\n",
       "      <th>SchoolHoliday</th>\n",
       "    </tr>\n",
       "  </thead>\n",
       "  <tbody>\n",
       "    <tr>\n",
       "      <th>Store</th>\n",
       "      <td>1.000000</td>\n",
       "      <td>-0.000008</td>\n",
       "      <td>0.005126</td>\n",
       "      <td>0.024325</td>\n",
       "      <td>-0.000047</td>\n",
       "      <td>0.000058</td>\n",
       "      <td>0.000641</td>\n",
       "    </tr>\n",
       "    <tr>\n",
       "      <th>DayOfWeek</th>\n",
       "      <td>-0.000008</td>\n",
       "      <td>1.000000</td>\n",
       "      <td>-0.462125</td>\n",
       "      <td>-0.386445</td>\n",
       "      <td>-0.528963</td>\n",
       "      <td>-0.392925</td>\n",
       "      <td>-0.205388</td>\n",
       "    </tr>\n",
       "    <tr>\n",
       "      <th>Sales</th>\n",
       "      <td>0.005126</td>\n",
       "      <td>-0.462125</td>\n",
       "      <td>1.000000</td>\n",
       "      <td>0.894711</td>\n",
       "      <td>0.678472</td>\n",
       "      <td>0.452345</td>\n",
       "      <td>0.085124</td>\n",
       "    </tr>\n",
       "    <tr>\n",
       "      <th>Customers</th>\n",
       "      <td>0.024325</td>\n",
       "      <td>-0.386445</td>\n",
       "      <td>0.894711</td>\n",
       "      <td>1.000000</td>\n",
       "      <td>0.616768</td>\n",
       "      <td>0.316169</td>\n",
       "      <td>0.071568</td>\n",
       "    </tr>\n",
       "    <tr>\n",
       "      <th>Open</th>\n",
       "      <td>-0.000047</td>\n",
       "      <td>-0.528963</td>\n",
       "      <td>0.678472</td>\n",
       "      <td>0.616768</td>\n",
       "      <td>1.000000</td>\n",
       "      <td>0.295042</td>\n",
       "      <td>0.086171</td>\n",
       "    </tr>\n",
       "    <tr>\n",
       "      <th>Promo</th>\n",
       "      <td>0.000058</td>\n",
       "      <td>-0.392925</td>\n",
       "      <td>0.452345</td>\n",
       "      <td>0.316169</td>\n",
       "      <td>0.295042</td>\n",
       "      <td>1.000000</td>\n",
       "      <td>0.067483</td>\n",
       "    </tr>\n",
       "    <tr>\n",
       "      <th>SchoolHoliday</th>\n",
       "      <td>0.000641</td>\n",
       "      <td>-0.205388</td>\n",
       "      <td>0.085124</td>\n",
       "      <td>0.071568</td>\n",
       "      <td>0.086171</td>\n",
       "      <td>0.067483</td>\n",
       "      <td>1.000000</td>\n",
       "    </tr>\n",
       "  </tbody>\n",
       "</table>\n",
       "</div>"
      ],
      "text/plain": [
       "                  Store  DayOfWeek     Sales  Customers      Open     Promo  \\\n",
       "Store          1.000000  -0.000008  0.005126   0.024325 -0.000047  0.000058   \n",
       "DayOfWeek     -0.000008   1.000000 -0.462125  -0.386445 -0.528963 -0.392925   \n",
       "Sales          0.005126  -0.462125  1.000000   0.894711  0.678472  0.452345   \n",
       "Customers      0.024325  -0.386445  0.894711   1.000000  0.616768  0.316169   \n",
       "Open          -0.000047  -0.528963  0.678472   0.616768  1.000000  0.295042   \n",
       "Promo          0.000058  -0.392925  0.452345   0.316169  0.295042  1.000000   \n",
       "SchoolHoliday  0.000641  -0.205388  0.085124   0.071568  0.086171  0.067483   \n",
       "\n",
       "               SchoolHoliday  \n",
       "Store               0.000641  \n",
       "DayOfWeek          -0.205388  \n",
       "Sales               0.085124  \n",
       "Customers           0.071568  \n",
       "Open                0.086171  \n",
       "Promo               0.067483  \n",
       "SchoolHoliday       1.000000  "
      ]
     },
     "execution_count": 10,
     "metadata": {},
     "output_type": "execute_result"
    }
   ],
   "source": [
    "dfTraincsv.corr()"
   ]
  },
  {
   "cell_type": "code",
   "execution_count": 11,
   "metadata": {
    "collapsed": false
   },
   "outputs": [
    {
     "data": {
      "text/html": [
       "<div>\n",
       "<table border=\"1\" class=\"dataframe\">\n",
       "  <thead>\n",
       "    <tr style=\"text-align: right;\">\n",
       "      <th></th>\n",
       "      <th>Sales</th>\n",
       "      <th>Customers</th>\n",
       "      <th>Open</th>\n",
       "      <th>Promo</th>\n",
       "      <th>SchoolHoliday</th>\n",
       "    </tr>\n",
       "    <tr>\n",
       "      <th>DayOfWeek</th>\n",
       "      <th></th>\n",
       "      <th></th>\n",
       "      <th></th>\n",
       "      <th></th>\n",
       "      <th></th>\n",
       "    </tr>\n",
       "  </thead>\n",
       "  <tbody>\n",
       "    <tr>\n",
       "      <th>1</th>\n",
       "      <td>1130203012</td>\n",
       "      <td>117675012</td>\n",
       "      <td>137560</td>\n",
       "      <td>77760</td>\n",
       "      <td>34060</td>\n",
       "    </tr>\n",
       "    <tr>\n",
       "      <th>2</th>\n",
       "      <td>1020411930</td>\n",
       "      <td>110848063</td>\n",
       "      <td>143961</td>\n",
       "      <td>77580</td>\n",
       "      <td>36595</td>\n",
       "    </tr>\n",
       "    <tr>\n",
       "      <th>3</th>\n",
       "      <td>954962863</td>\n",
       "      <td>105117642</td>\n",
       "      <td>141936</td>\n",
       "      <td>77580</td>\n",
       "      <td>34636</td>\n",
       "    </tr>\n",
       "    <tr>\n",
       "      <th>4</th>\n",
       "      <td>911177709</td>\n",
       "      <td>101732938</td>\n",
       "      <td>134644</td>\n",
       "      <td>77580</td>\n",
       "      <td>34747</td>\n",
       "    </tr>\n",
       "    <tr>\n",
       "      <th>5</th>\n",
       "      <td>980555941</td>\n",
       "      <td>108384820</td>\n",
       "      <td>138640</td>\n",
       "      <td>77580</td>\n",
       "      <td>36235</td>\n",
       "    </tr>\n",
       "    <tr>\n",
       "      <th>6</th>\n",
       "      <td>846317735</td>\n",
       "      <td>95103854</td>\n",
       "      <td>144058</td>\n",
       "      <td>0</td>\n",
       "      <td>2724</td>\n",
       "    </tr>\n",
       "    <tr>\n",
       "      <th>7</th>\n",
       "      <td>29551433</td>\n",
       "      <td>5179426</td>\n",
       "      <td>3593</td>\n",
       "      <td>0</td>\n",
       "      <td>2724</td>\n",
       "    </tr>\n",
       "  </tbody>\n",
       "</table>\n",
       "</div>"
      ],
      "text/plain": [
       "                Sales  Customers    Open  Promo  SchoolHoliday\n",
       "DayOfWeek                                                     \n",
       "1          1130203012  117675012  137560  77760          34060\n",
       "2          1020411930  110848063  143961  77580          36595\n",
       "3           954962863  105117642  141936  77580          34636\n",
       "4           911177709  101732938  134644  77580          34747\n",
       "5           980555941  108384820  138640  77580          36235\n",
       "6           846317735   95103854  144058      0           2724\n",
       "7            29551433    5179426    3593      0           2724"
      ]
     },
     "execution_count": 11,
     "metadata": {},
     "output_type": "execute_result"
    }
   ],
   "source": [
    "group_by_DayOfWeek = dfTraincsv.groupby(\"DayOfWeek\")\n",
    "dfTraincsvByDayOfWeek = group_by_DayOfWeek.sum().drop(\"Store\",1)\n",
    "dfTraincsvByDayOfWeek"
   ]
  },
  {
   "cell_type": "code",
   "execution_count": 12,
   "metadata": {
    "collapsed": false
   },
   "outputs": [
    {
     "data": {
      "text/html": [
       "<div>\n",
       "<table border=\"1\" class=\"dataframe\">\n",
       "  <thead>\n",
       "    <tr style=\"text-align: right;\">\n",
       "      <th></th>\n",
       "      <th>Sales</th>\n",
       "      <th>Customers</th>\n",
       "      <th>Open</th>\n",
       "      <th>Promo</th>\n",
       "      <th>SchoolHoliday</th>\n",
       "      <th>SalesPerCustomer</th>\n",
       "    </tr>\n",
       "  </thead>\n",
       "  <tbody>\n",
       "    <tr>\n",
       "      <th>Sales</th>\n",
       "      <td>1.000000</td>\n",
       "      <td>0.997778</td>\n",
       "      <td>0.964575</td>\n",
       "      <td>0.745242</td>\n",
       "      <td>0.741658</td>\n",
       "      <td>0.996020</td>\n",
       "    </tr>\n",
       "    <tr>\n",
       "      <th>Customers</th>\n",
       "      <td>0.997778</td>\n",
       "      <td>1.000000</td>\n",
       "      <td>0.978076</td>\n",
       "      <td>0.734644</td>\n",
       "      <td>0.732648</td>\n",
       "      <td>0.997122</td>\n",
       "    </tr>\n",
       "    <tr>\n",
       "      <th>Open</th>\n",
       "      <td>0.964575</td>\n",
       "      <td>0.978076</td>\n",
       "      <td>1.000000</td>\n",
       "      <td>0.618096</td>\n",
       "      <td>0.618845</td>\n",
       "      <td>0.980040</td>\n",
       "    </tr>\n",
       "    <tr>\n",
       "      <th>Promo</th>\n",
       "      <td>0.745242</td>\n",
       "      <td>0.734644</td>\n",
       "      <td>0.618096</td>\n",
       "      <td>1.000000</td>\n",
       "      <td>0.998347</td>\n",
       "      <td>0.696359</td>\n",
       "    </tr>\n",
       "    <tr>\n",
       "      <th>SchoolHoliday</th>\n",
       "      <td>0.741658</td>\n",
       "      <td>0.732648</td>\n",
       "      <td>0.618845</td>\n",
       "      <td>0.998347</td>\n",
       "      <td>1.000000</td>\n",
       "      <td>0.691564</td>\n",
       "    </tr>\n",
       "    <tr>\n",
       "      <th>SalesPerCustomer</th>\n",
       "      <td>0.996020</td>\n",
       "      <td>0.997122</td>\n",
       "      <td>0.980040</td>\n",
       "      <td>0.696359</td>\n",
       "      <td>0.691564</td>\n",
       "      <td>1.000000</td>\n",
       "    </tr>\n",
       "  </tbody>\n",
       "</table>\n",
       "</div>"
      ],
      "text/plain": [
       "                     Sales  Customers      Open     Promo  SchoolHoliday  \\\n",
       "Sales             1.000000   0.997778  0.964575  0.745242       0.741658   \n",
       "Customers         0.997778   1.000000  0.978076  0.734644       0.732648   \n",
       "Open              0.964575   0.978076  1.000000  0.618096       0.618845   \n",
       "Promo             0.745242   0.734644  0.618096  1.000000       0.998347   \n",
       "SchoolHoliday     0.741658   0.732648  0.618845  0.998347       1.000000   \n",
       "SalesPerCustomer  0.996020   0.997122  0.980040  0.696359       0.691564   \n",
       "\n",
       "                  SalesPerCustomer  \n",
       "Sales                     0.996020  \n",
       "Customers                 0.997122  \n",
       "Open                      0.980040  \n",
       "Promo                     0.696359  \n",
       "SchoolHoliday             0.691564  \n",
       "SalesPerCustomer          1.000000  "
      ]
     },
     "execution_count": 12,
     "metadata": {},
     "output_type": "execute_result"
    }
   ],
   "source": [
    "dfTraincsvByDayOfWeek[\"SalesPerCustomer\"] = dfTraincsvByDayOfWeek[\"Sales\"]/dfTraincsvByDayOfWeek[\"Customers\"]\n",
    "dfTraincsvByDayOfWeek.corr()"
   ]
  },
  {
   "cell_type": "code",
   "execution_count": 13,
   "metadata": {
    "collapsed": false
   },
   "outputs": [
    {
     "data": {
      "text/html": [
       "<div>\n",
       "<table border=\"1\" class=\"dataframe\">\n",
       "  <thead>\n",
       "    <tr style=\"text-align: right;\">\n",
       "      <th></th>\n",
       "      <th>Sales</th>\n",
       "      <th>Customers</th>\n",
       "      <th>Open</th>\n",
       "      <th>Promo</th>\n",
       "      <th>SchoolHoliday</th>\n",
       "      <th>SalesPerCustomer</th>\n",
       "    </tr>\n",
       "    <tr>\n",
       "      <th>DayOfWeek</th>\n",
       "      <th></th>\n",
       "      <th></th>\n",
       "      <th></th>\n",
       "      <th></th>\n",
       "      <th></th>\n",
       "      <th></th>\n",
       "    </tr>\n",
       "  </thead>\n",
       "  <tbody>\n",
       "    <tr>\n",
       "      <th>1</th>\n",
       "      <td>1130203012</td>\n",
       "      <td>117675012</td>\n",
       "      <td>137560</td>\n",
       "      <td>77760</td>\n",
       "      <td>34060</td>\n",
       "      <td>9.604444</td>\n",
       "    </tr>\n",
       "    <tr>\n",
       "      <th>2</th>\n",
       "      <td>1020411930</td>\n",
       "      <td>110848063</td>\n",
       "      <td>143961</td>\n",
       "      <td>77580</td>\n",
       "      <td>36595</td>\n",
       "      <td>9.205501</td>\n",
       "    </tr>\n",
       "    <tr>\n",
       "      <th>3</th>\n",
       "      <td>954962863</td>\n",
       "      <td>105117642</td>\n",
       "      <td>141936</td>\n",
       "      <td>77580</td>\n",
       "      <td>34636</td>\n",
       "      <td>9.084706</td>\n",
       "    </tr>\n",
       "    <tr>\n",
       "      <th>4</th>\n",
       "      <td>911177709</td>\n",
       "      <td>101732938</td>\n",
       "      <td>134644</td>\n",
       "      <td>77580</td>\n",
       "      <td>34747</td>\n",
       "      <td>8.956565</td>\n",
       "    </tr>\n",
       "    <tr>\n",
       "      <th>5</th>\n",
       "      <td>980555941</td>\n",
       "      <td>108384820</td>\n",
       "      <td>138640</td>\n",
       "      <td>77580</td>\n",
       "      <td>36235</td>\n",
       "      <td>9.046986</td>\n",
       "    </tr>\n",
       "    <tr>\n",
       "      <th>6</th>\n",
       "      <td>846317735</td>\n",
       "      <td>95103854</td>\n",
       "      <td>144058</td>\n",
       "      <td>0</td>\n",
       "      <td>2724</td>\n",
       "      <td>8.898879</td>\n",
       "    </tr>\n",
       "    <tr>\n",
       "      <th>7</th>\n",
       "      <td>29551433</td>\n",
       "      <td>5179426</td>\n",
       "      <td>3593</td>\n",
       "      <td>0</td>\n",
       "      <td>2724</td>\n",
       "      <td>5.705542</td>\n",
       "    </tr>\n",
       "  </tbody>\n",
       "</table>\n",
       "</div>"
      ],
      "text/plain": [
       "                Sales  Customers    Open  Promo  SchoolHoliday  \\\n",
       "DayOfWeek                                                        \n",
       "1          1130203012  117675012  137560  77760          34060   \n",
       "2          1020411930  110848063  143961  77580          36595   \n",
       "3           954962863  105117642  141936  77580          34636   \n",
       "4           911177709  101732938  134644  77580          34747   \n",
       "5           980555941  108384820  138640  77580          36235   \n",
       "6           846317735   95103854  144058      0           2724   \n",
       "7            29551433    5179426    3593      0           2724   \n",
       "\n",
       "           SalesPerCustomer  \n",
       "DayOfWeek                    \n",
       "1                  9.604444  \n",
       "2                  9.205501  \n",
       "3                  9.084706  \n",
       "4                  8.956565  \n",
       "5                  9.046986  \n",
       "6                  8.898879  \n",
       "7                  5.705542  "
      ]
     },
     "execution_count": 13,
     "metadata": {},
     "output_type": "execute_result"
    }
   ],
   "source": [
    "dfTraincsvByDayOfWeek"
   ]
  },
  {
   "cell_type": "code",
   "execution_count": 14,
   "metadata": {
    "collapsed": false
   },
   "outputs": [
    {
     "name": "stdout",
     "output_type": "stream",
     "text": [
      "  4. Date\r\n",
      "\t<type 'datetime.date'>\r\n",
      "\tNulls: False\r\n",
      "\tMin: 2015-08-01\r\n",
      "\tMax: 2015-09-17\r\n",
      "\tUnique values: 48\r\n",
      "\t5 most frequent values:\r\n",
      "\t\t2015-08-31:\t856\r\n",
      "\t\t2015-08-28:\t856\r\n",
      "\t\t2015-08-29:\t856\r\n",
      "\t\t2015-08-08:\t856\r\n",
      "\t\t2015-08-09:\t856\r\n",
      "\r\n",
      "Row count: 41088\r\n"
     ]
    }
   ],
   "source": [
    "! csvstat {testcsvPath} -c \"Date\""
   ]
  },
  {
   "cell_type": "code",
   "execution_count": 15,
   "metadata": {
    "collapsed": false
   },
   "outputs": [],
   "source": [
    "dfTraincsv[\"SalesperCustomer\"]=dfTraincsv[\"Sales\"]/dfTraincsv[\"Customers\"]"
   ]
  },
  {
   "cell_type": "code",
   "execution_count": 16,
   "metadata": {
    "collapsed": false
   },
   "outputs": [],
   "source": [
    "X = dfTraincsv[[\"Sales\",\"Customers\"]].values"
   ]
  },
  {
   "cell_type": "code",
   "execution_count": 32,
   "metadata": {
    "collapsed": false
   },
   "outputs": [
    {
     "data": {
      "text/plain": [
       "array([5, 5, 5, ..., 2, 2, 2])"
      ]
     },
     "execution_count": 32,
     "metadata": {},
     "output_type": "execute_result"
    }
   ],
   "source": [
    "y = dfTraincsv[\"DayOfWeek\"].values\n",
    "y"
   ]
  },
  {
   "cell_type": "code",
   "execution_count": 17,
   "metadata": {
    "collapsed": false
   },
   "outputs": [
    {
     "data": {
      "text/plain": [
       "array([[5263,  555],\n",
       "       [6064,  625],\n",
       "       [8314,  821]])"
      ]
     },
     "execution_count": 17,
     "metadata": {},
     "output_type": "execute_result"
    }
   ],
   "source": [
    "X[:3]"
   ]
  },
  {
   "cell_type": "code",
   "execution_count": 18,
   "metadata": {
    "collapsed": false
   },
   "outputs": [],
   "source": [
    "n=[]\n",
    "for x,y in X:\n",
    "    if y!=0:\n",
    "        x=float(x)\n",
    "        y=float(y)\n",
    "        n.append(x/y)\n",
    "    else:\n",
    "        n.append(0)\n",
    "        \n",
    "dfTraincsv[\"SalesperCustomer\"]=Series(n)"
   ]
  },
  {
   "cell_type": "code",
   "execution_count": 19,
   "metadata": {
    "collapsed": false
   },
   "outputs": [],
   "source": [
    "del n\n",
    "X = dfTraincsv[[\"Sales\",\"Customers\",\"SalesperCustomer\"]].values"
   ]
  },
  {
   "cell_type": "code",
   "execution_count": 20,
   "metadata": {
    "collapsed": false
   },
   "outputs": [
    {
     "data": {
      "text/plain": [
       "array([ 5773.81897231,   633.14594641,     7.88023137])"
      ]
     },
     "execution_count": 20,
     "metadata": {},
     "output_type": "execute_result"
    }
   ],
   "source": [
    "attribute_means = X.mean(axis=0)\n",
    "attribute_means"
   ]
  },
  {
   "cell_type": "code",
   "execution_count": 21,
   "metadata": {
    "collapsed": false
   },
   "outputs": [
    {
     "data": {
      "text/plain": [
       "array([[0, 0, 1],\n",
       "       [1, 0, 1],\n",
       "       [1, 1, 1],\n",
       "       [1, 1, 1],\n",
       "       [0, 0, 1]])"
      ]
     },
     "execution_count": 21,
     "metadata": {},
     "output_type": "execute_result"
    }
   ],
   "source": [
    "X_d = np.array(X >= attribute_means,dtype='int')\n",
    "X_d[:5]"
   ]
  },
  {
   "cell_type": "markdown",
   "metadata": {},
   "source": [
    "# OneR Algorithm\n",
    "\n",
    "<p>X : sales, customers and sales per customer<br/>\n",
    "x_d: discrete array 1=value ge mean, 0=value le mean</p>\n",
    "<p>\n",
    "The One Rule algorithm tries to find the most frequent class for the feature values.\n",
    "</p>\n",
    "\n"
   ]
  },
  {
   "cell_type": "code",
   "execution_count": 42,
   "metadata": {
    "collapsed": true
   },
   "outputs": [],
   "source": [
    "from collections import defaultdict\n",
    "from operator import itemgetter"
   ]
  },
  {
   "cell_type": "code",
   "execution_count": 43,
   "metadata": {
    "collapsed": true
   },
   "outputs": [],
   "source": [
    "def train_feature_value(X, y_true, feature_index, value):\n",
    "    class_counts = defaultdict(int)\n",
    "    for sample, y in zip(X, y_true):\n",
    "        if sample[feature_index] == value:\n",
    "            class_counts[y] += 1\n",
    "    \n",
    "    sorted_class_counts = sorted(class_counts.items(),key=itemgetter(1), reverse=True)\n",
    "    most_frequent_class = sorted_class_counts[0][0]\n",
    "    \n",
    "    \n",
    "    incorrect_predictions = [class_count for class_value, class_count in class_counts.items() if class_value != most_frequent_class]\n",
    "    error = sum(incorrect_predictions)\n",
    "    \n",
    "    return most_frequent_class, error\n",
    "    "
   ]
  },
  {
   "cell_type": "code",
   "execution_count": 54,
   "metadata": {
    "collapsed": false
   },
   "outputs": [],
   "source": [
    "most_frequent_classerrors=[]\n",
    "\n",
    "def train_on_feature(X, y_true, feature_index):\n",
    "    values = set(X[:,feature_index])\n",
    "    predictors = {}\n",
    "    errors = []\n",
    "    \n",
    "    for current_value in values:\n",
    "        most_frequent_class, error = train_feature_value(X,y_true, feature_index, current_value)\n",
    "        predictors[current_value] = most_frequent_classerrors.append(error)\n",
    "        \n",
    "    total_error = sum(errors)\n",
    "    return predictors, total_error\n",
    "    "
   ]
  },
  {
   "cell_type": "code",
   "execution_count": 45,
   "metadata": {
    "collapsed": true
   },
   "outputs": [],
   "source": [
    "#Let test de algorithm:"
   ]
  },
  {
   "cell_type": "code",
   "execution_count": 46,
   "metadata": {
    "collapsed": true
   },
   "outputs": [],
   "source": [
    "from sklearn.cross_validation import train_test_split"
   ]
  },
  {
   "cell_type": "code",
   "execution_count": 47,
   "metadata": {
    "collapsed": true
   },
   "outputs": [],
   "source": [
    "y = dfTraincsv[\"DayOfWeek\"].values"
   ]
  },
  {
   "cell_type": "code",
   "execution_count": 48,
   "metadata": {
    "collapsed": false
   },
   "outputs": [],
   "source": [
    "Xd_train, Xd_test, y_train, y_test = train_test_split(X_d, y, random_state=14)"
   ]
  },
  {
   "cell_type": "code",
   "execution_count": 49,
   "metadata": {
    "collapsed": true
   },
   "outputs": [],
   "source": [
    "all_predictors = {}\n",
    "errors = {}"
   ]
  },
  {
   "cell_type": "code",
   "execution_count": 55,
   "metadata": {
    "collapsed": false
   },
   "outputs": [],
   "source": [
    "for feature_index in range(Xd_train.shape[1]):\n",
    "    predictors, total_error = train_on_feature(Xd_train, y_train,feature_index)\n",
    "    all_predictors[feature_index] = predictors\n",
    "    errors[feature_index] = total_error"
   ]
  },
  {
   "cell_type": "code",
   "execution_count": 56,
   "metadata": {
    "collapsed": true
   },
   "outputs": [],
   "source": [
    "best_feature, best_error = sorted(errors.items(), key=itemgetter(1)) [0]"
   ]
  },
  {
   "cell_type": "code",
   "execution_count": 62,
   "metadata": {
    "collapsed": false
   },
   "outputs": [
    {
     "data": {
      "text/plain": [
       "{'feature': 0, 'predictor': None}"
      ]
     },
     "execution_count": 62,
     "metadata": {},
     "output_type": "execute_result"
    }
   ],
   "source": [
    "model = {'feature': best_feature, 'predictor': all_predictors[best_feature][0]}\n",
    "model"
   ]
  },
  {
   "cell_type": "code",
   "execution_count": 61,
   "metadata": {
    "collapsed": false
   },
   "outputs": [
    {
     "ename": "NameError",
     "evalue": "name 'sample' is not defined",
     "output_type": "error",
     "traceback": [
      "\u001b[1;31m---------------------------------------------------------------------------\u001b[0m",
      "\u001b[1;31mNameError\u001b[0m                                 Traceback (most recent call last)",
      "\u001b[1;32m<ipython-input-61-3087870d1d84>\u001b[0m in \u001b[0;36m<module>\u001b[1;34m()\u001b[0m\n\u001b[0;32m      1\u001b[0m \u001b[0mvariable\u001b[0m \u001b[1;33m=\u001b[0m \u001b[0mmodel\u001b[0m\u001b[1;33m[\u001b[0m\u001b[1;34m'feature'\u001b[0m\u001b[1;33m]\u001b[0m\u001b[1;33m\u001b[0m\u001b[0m\n\u001b[0;32m      2\u001b[0m \u001b[0mpredictor\u001b[0m \u001b[1;33m=\u001b[0m \u001b[0mmodel\u001b[0m\u001b[1;33m[\u001b[0m\u001b[1;34m'predictor'\u001b[0m\u001b[1;33m]\u001b[0m\u001b[1;33m\u001b[0m\u001b[0m\n\u001b[1;32m----> 3\u001b[1;33m \u001b[0mprediction\u001b[0m \u001b[1;33m=\u001b[0m \u001b[0mpredictor\u001b[0m\u001b[1;33m[\u001b[0m\u001b[0mint\u001b[0m\u001b[1;33m(\u001b[0m\u001b[0msample\u001b[0m\u001b[1;33m[\u001b[0m\u001b[0mvariable\u001b[0m\u001b[1;33m]\u001b[0m\u001b[1;33m)\u001b[0m\u001b[1;33m]\u001b[0m\u001b[1;33m\u001b[0m\u001b[0m\n\u001b[0m",
      "\u001b[1;31mNameError\u001b[0m: name 'sample' is not defined"
     ]
    }
   ],
   "source": [
    "variable = model['feature']\n",
    "predictor = model['predictor']\n",
    "prediction = predictor[int(sample[variable])]"
   ]
  },
  {
   "cell_type": "code",
   "execution_count": null,
   "metadata": {
    "collapsed": true
   },
   "outputs": [],
   "source": []
  }
 ],
 "metadata": {
  "kernelspec": {
   "display_name": "Python 2",
   "language": "python",
   "name": "python2"
  },
  "language_info": {
   "codemirror_mode": {
    "name": "ipython",
    "version": 2
   },
   "file_extension": ".py",
   "mimetype": "text/x-python",
   "name": "python",
   "nbconvert_exporter": "python",
   "pygments_lexer": "ipython2",
   "version": "2.7.10"
  }
 },
 "nbformat": 4,
 "nbformat_minor": 0
}
